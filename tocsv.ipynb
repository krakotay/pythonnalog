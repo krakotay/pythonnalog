{
 "cells": [
  {
   "cell_type": "code",
   "execution_count": null,
   "metadata": {},
   "outputs": [
    {
     "data": {
      "text/html": [
       "<div><style>\n",
       ".dataframe > thead > tr,\n",
       ".dataframe > tbody > tr {\n",
       "  text-align: right;\n",
       "  white-space: pre-wrap;\n",
       "}\n",
       "</style>\n",
       "<small>shape: (351_198, 10)</small><table border=\"1\" class=\"dataframe\"><thead><tr><th>skip</th><th>data</th><th>operation</th><th>also_operation</th><th>debet_number</th><th>debet_rub</th><th>credit_number</th><th>credit_rub</th><th>d</th><th>saldo</th></tr><tr><td>str</td><td>str</td><td>str</td><td>str</td><td>str</td><td>str</td><td>str</td><td>str</td><td>str</td><td>str</td></tr></thead><tbody><tr><td>null</td><td>&quot;01.02.2021&quot;</td><td>&quot;Возврат товаров от покупателя …</td><td>&quot;Возврат из розницы&quot;</td><td>&quot;41.01&quot;</td><td>&quot;494,07&quot;</td><td>&quot;41.02&quot;</td><td>&quot;494,07&quot;</td><td>&quot;Д&quot;</td><td>&quot;846 910 306,62&quot;</td></tr><tr><td>null</td><td>null</td><td>null</td><td>&quot;YU-91-10868-001 Мешок для обув…</td><td>null</td><td>null</td><td>null</td><td>null</td><td>null</td><td>null</td></tr><tr><td>null</td><td>null</td><td>null</td><td>&quot;YU-91-10868-001 Мешок для обув…</td><td>null</td><td>null</td><td>null</td><td>null</td><td>null</td><td>null</td></tr><tr><td>null</td><td>null</td><td>null</td><td>&quot;Кол-во&quot;</td><td>null</td><td>&quot;8,000&quot;</td><td>null</td><td>&quot;8,000&quot;</td><td>null</td><td>&quot;1 849 500,000&quot;</td></tr><tr><td>null</td><td>&quot;01.02.2021&quot;</td><td>&quot;Поступление товаров и услуг ЦБ…</td><td>&quot;Оприходованы ТМЦ&quot;</td><td>&quot;41.01&quot;</td><td>&quot;6 162,00&quot;</td><td>&quot;60.01&quot;</td><td>null</td><td>&quot;Д&quot;</td><td>&quot;846 916 468,62&quot;</td></tr><tr><td>&hellip;</td><td>&hellip;</td><td>&hellip;</td><td>&hellip;</td><td>&hellip;</td><td>&hellip;</td><td>&hellip;</td><td>&hellip;</td><td>&hellip;</td><td>&hellip;</td></tr><tr><td>null</td><td>null</td><td>null</td><td>&quot;Кол-во&quot;</td><td>null</td><td>null</td><td>null</td><td>&quot;-1,000&quot;</td><td>null</td><td>&quot;1 865 356,000&quot;</td></tr><tr><td>null</td><td>&quot;Обороты за период&quot;</td><td>null</td><td>null</td><td>null</td><td>&quot;106 004 786,25&quot;</td><td>null</td><td>&quot;107 519 922,46&quot;</td><td>null</td><td>null</td></tr><tr><td>null</td><td>null</td><td>null</td><td>null</td><td>null</td><td>&quot;233 270,000&quot;</td><td>null</td><td>&quot;217 414,000&quot;</td><td>null</td><td>null</td></tr><tr><td>null</td><td>&quot;Сальдо на конец&quot;</td><td>null</td><td>null</td><td>null</td><td>&quot;845 395 170,41&quot;</td><td>null</td><td>&quot;0,00&quot;</td><td>null</td><td>null</td></tr><tr><td>null</td><td>null</td><td>null</td><td>null</td><td>null</td><td>&quot;1 865 356,000&quot;</td><td>null</td><td>&quot;0,000&quot;</td><td>null</td><td>null</td></tr></tbody></table></div>"
      ],
      "text/plain": [
       "shape: (351_198, 10)\n",
       "┌──────┬─────────────┬─────────────┬─────────────┬───┬────────────┬────────────┬──────┬────────────┐\n",
       "│ skip ┆ data        ┆ operation   ┆ also_operat ┆ … ┆ credit_num ┆ credit_rub ┆ d    ┆ saldo      │\n",
       "│ ---  ┆ ---         ┆ ---         ┆ ion         ┆   ┆ ber        ┆ ---        ┆ ---  ┆ ---        │\n",
       "│ str  ┆ str         ┆ str         ┆ ---         ┆   ┆ ---        ┆ str        ┆ str  ┆ str        │\n",
       "│      ┆             ┆             ┆ str         ┆   ┆ str        ┆            ┆      ┆            │\n",
       "╞══════╪═════════════╪═════════════╪═════════════╪═══╪════════════╪════════════╪══════╪════════════╡\n",
       "│ null ┆ 01.02.2021  ┆ Возврат     ┆ Возврат из  ┆ … ┆ 41.02      ┆ 494,07     ┆ Д    ┆ 846 910 30 │\n",
       "│      ┆             ┆ товаров от  ┆ розницы     ┆   ┆            ┆            ┆      ┆ 6,62       │\n",
       "│      ┆             ┆ покупателя  ┆             ┆   ┆            ┆            ┆      ┆            │\n",
       "│      ┆             ┆ …           ┆             ┆   ┆            ┆            ┆      ┆            │\n",
       "│ null ┆ null        ┆ null        ┆ YU-91-10868 ┆ … ┆ null       ┆ null       ┆ null ┆ null       │\n",
       "│      ┆             ┆             ┆ -001 Мешок  ┆   ┆            ┆            ┆      ┆            │\n",
       "│      ┆             ┆             ┆ для обув…   ┆   ┆            ┆            ┆      ┆            │\n",
       "│ null ┆ null        ┆ null        ┆ YU-91-10868 ┆ … ┆ null       ┆ null       ┆ null ┆ null       │\n",
       "│      ┆             ┆             ┆ -001 Мешок  ┆   ┆            ┆            ┆      ┆            │\n",
       "│      ┆             ┆             ┆ для обув…   ┆   ┆            ┆            ┆      ┆            │\n",
       "│ null ┆ null        ┆ null        ┆ Кол-во      ┆ … ┆ null       ┆ 8,000      ┆ null ┆ 1 849 500, │\n",
       "│      ┆             ┆             ┆             ┆   ┆            ┆            ┆      ┆ 000        │\n",
       "│ null ┆ 01.02.2021  ┆ Поступление ┆ Оприходован ┆ … ┆ 60.01      ┆ null       ┆ Д    ┆ 846 916 46 │\n",
       "│      ┆             ┆ товаров и   ┆ ы ТМЦ       ┆   ┆            ┆            ┆      ┆ 8,62       │\n",
       "│      ┆             ┆ услуг ЦБ…   ┆             ┆   ┆            ┆            ┆      ┆            │\n",
       "│ …    ┆ …           ┆ …           ┆ …           ┆ … ┆ …          ┆ …          ┆ …    ┆ …          │\n",
       "│ null ┆ null        ┆ null        ┆ Кол-во      ┆ … ┆ null       ┆ -1,000     ┆ null ┆ 1 865 356, │\n",
       "│      ┆             ┆             ┆             ┆   ┆            ┆            ┆      ┆ 000        │\n",
       "│ null ┆ Обороты за  ┆ null        ┆ null        ┆ … ┆ null       ┆ 107 519 92 ┆ null ┆ null       │\n",
       "│      ┆ период      ┆             ┆             ┆   ┆            ┆ 2,46       ┆      ┆            │\n",
       "│ null ┆ null        ┆ null        ┆ null        ┆ … ┆ null       ┆ 217 414,00 ┆ null ┆ null       │\n",
       "│      ┆             ┆             ┆             ┆   ┆            ┆ 0          ┆      ┆            │\n",
       "│ null ┆ Сальдо на   ┆ null        ┆ null        ┆ … ┆ null       ┆ 0,00       ┆ null ┆ null       │\n",
       "│      ┆ конец       ┆             ┆             ┆   ┆            ┆            ┆      ┆            │\n",
       "│ null ┆ null        ┆ null        ┆ null        ┆ … ┆ null       ┆ 0,000      ┆ null ┆ null       │\n",
       "└──────┴─────────────┴─────────────┴─────────────┴───┴────────────┴────────────┴──────┴────────────┘"
      ]
     },
     "execution_count": 2,
     "metadata": {},
     "output_type": "execute_result"
    }
   ],
   "source": [
    "import polars as pl\n",
    "name = input('Название файла: ')\n",
    "columns = ['skip', 'data', 'operation', 'also_operation', 'debet_number', 'debet_rub', 'credit_number', 'credit_rub', 'd', 'saldo']\n",
    "\n",
    "df = pl.read_csv(name + '.txt', separator='\\t', has_header=False, encoding='utf8', ignore_errors=True, infer_schema_length=0, new_columns=columns)\n",
    "df"
   ]
  },
  {
   "cell_type": "code",
   "execution_count": 3,
   "metadata": {},
   "outputs": [
    {
     "data": {
      "text/html": [
       "<div><style>\n",
       ".dataframe > thead > tr,\n",
       ".dataframe > tbody > tr {\n",
       "  text-align: right;\n",
       "  white-space: pre-wrap;\n",
       "}\n",
       "</style>\n",
       "<small>shape: (351_198, 7)</small><table border=\"1\" class=\"dataframe\"><thead><tr><th>data</th><th>operation</th><th>also_operation</th><th>debet_number</th><th>debet_rub</th><th>credit_number</th><th>credit_rub</th></tr><tr><td>str</td><td>str</td><td>str</td><td>str</td><td>str</td><td>str</td><td>str</td></tr></thead><tbody><tr><td>&quot;01.02.2021&quot;</td><td>&quot;Возврат товаров от покупателя …</td><td>&quot;Возврат из розницы&quot;</td><td>&quot;41.01&quot;</td><td>&quot;494,07&quot;</td><td>&quot;41.02&quot;</td><td>&quot;494,07&quot;</td></tr><tr><td>null</td><td>null</td><td>&quot;YU-91-10868-001 Мешок для обув…</td><td>null</td><td>null</td><td>null</td><td>null</td></tr><tr><td>null</td><td>null</td><td>&quot;YU-91-10868-001 Мешок для обув…</td><td>null</td><td>null</td><td>null</td><td>null</td></tr><tr><td>null</td><td>null</td><td>&quot;Кол-во&quot;</td><td>null</td><td>&quot;8,000&quot;</td><td>null</td><td>&quot;8,000&quot;</td></tr><tr><td>&quot;01.02.2021&quot;</td><td>&quot;Поступление товаров и услуг ЦБ…</td><td>&quot;Оприходованы ТМЦ&quot;</td><td>&quot;41.01&quot;</td><td>&quot;6 162,00&quot;</td><td>&quot;60.01&quot;</td><td>null</td></tr><tr><td>&hellip;</td><td>&hellip;</td><td>&hellip;</td><td>&hellip;</td><td>&hellip;</td><td>&hellip;</td><td>&hellip;</td></tr><tr><td>null</td><td>null</td><td>&quot;Кол-во&quot;</td><td>null</td><td>null</td><td>null</td><td>&quot;-1,000&quot;</td></tr><tr><td>&quot;Обороты за период&quot;</td><td>null</td><td>null</td><td>null</td><td>&quot;106 004 786,25&quot;</td><td>null</td><td>&quot;107 519 922,46&quot;</td></tr><tr><td>null</td><td>null</td><td>null</td><td>null</td><td>&quot;233 270,000&quot;</td><td>null</td><td>&quot;217 414,000&quot;</td></tr><tr><td>&quot;Сальдо на конец&quot;</td><td>null</td><td>null</td><td>null</td><td>&quot;845 395 170,41&quot;</td><td>null</td><td>&quot;0,00&quot;</td></tr><tr><td>null</td><td>null</td><td>null</td><td>null</td><td>&quot;1 865 356,000&quot;</td><td>null</td><td>&quot;0,000&quot;</td></tr></tbody></table></div>"
      ],
      "text/plain": [
       "shape: (351_198, 7)\n",
       "┌──────────────┬─────────────┬─────────────┬─────────────┬─────────────┬─────────────┬─────────────┐\n",
       "│ data         ┆ operation   ┆ also_operat ┆ debet_numbe ┆ debet_rub   ┆ credit_numb ┆ credit_rub  │\n",
       "│ ---          ┆ ---         ┆ ion         ┆ r           ┆ ---         ┆ er          ┆ ---         │\n",
       "│ str          ┆ str         ┆ ---         ┆ ---         ┆ str         ┆ ---         ┆ str         │\n",
       "│              ┆             ┆ str         ┆ str         ┆             ┆ str         ┆             │\n",
       "╞══════════════╪═════════════╪═════════════╪═════════════╪═════════════╪═════════════╪═════════════╡\n",
       "│ 01.02.2021   ┆ Возврат     ┆ Возврат из  ┆ 41.01       ┆ 494,07      ┆ 41.02       ┆ 494,07      │\n",
       "│              ┆ товаров от  ┆ розницы     ┆             ┆             ┆             ┆             │\n",
       "│              ┆ покупателя  ┆             ┆             ┆             ┆             ┆             │\n",
       "│              ┆ …           ┆             ┆             ┆             ┆             ┆             │\n",
       "│ null         ┆ null        ┆ YU-91-10868 ┆ null        ┆ null        ┆ null        ┆ null        │\n",
       "│              ┆             ┆ -001 Мешок  ┆             ┆             ┆             ┆             │\n",
       "│              ┆             ┆ для обув…   ┆             ┆             ┆             ┆             │\n",
       "│ null         ┆ null        ┆ YU-91-10868 ┆ null        ┆ null        ┆ null        ┆ null        │\n",
       "│              ┆             ┆ -001 Мешок  ┆             ┆             ┆             ┆             │\n",
       "│              ┆             ┆ для обув…   ┆             ┆             ┆             ┆             │\n",
       "│ null         ┆ null        ┆ Кол-во      ┆ null        ┆ 8,000       ┆ null        ┆ 8,000       │\n",
       "│ 01.02.2021   ┆ Поступление ┆ Оприходован ┆ 41.01       ┆ 6 162,00    ┆ 60.01       ┆ null        │\n",
       "│              ┆ товаров и   ┆ ы ТМЦ       ┆             ┆             ┆             ┆             │\n",
       "│              ┆ услуг ЦБ…   ┆             ┆             ┆             ┆             ┆             │\n",
       "│ …            ┆ …           ┆ …           ┆ …           ┆ …           ┆ …           ┆ …           │\n",
       "│ null         ┆ null        ┆ Кол-во      ┆ null        ┆ null        ┆ null        ┆ -1,000      │\n",
       "│ Обороты за   ┆ null        ┆ null        ┆ null        ┆ 106 004 786 ┆ null        ┆ 107 519 922 │\n",
       "│ период       ┆             ┆             ┆             ┆ ,25         ┆             ┆ ,46         │\n",
       "│ null         ┆ null        ┆ null        ┆ null        ┆ 233 270,000 ┆ null        ┆ 217 414,000 │\n",
       "│ Сальдо на    ┆ null        ┆ null        ┆ null        ┆ 845 395 170 ┆ null        ┆ 0,00        │\n",
       "│ конец        ┆             ┆             ┆             ┆ ,41         ┆             ┆             │\n",
       "│ null         ┆ null        ┆ null        ┆ null        ┆ 1 865 356,0 ┆ null        ┆ 0,000       │\n",
       "│              ┆             ┆             ┆             ┆ 00          ┆             ┆             │\n",
       "└──────────────┴─────────────┴─────────────┴─────────────┴─────────────┴─────────────┴─────────────┘"
      ]
     },
     "execution_count": 3,
     "metadata": {},
     "output_type": "execute_result"
    }
   ],
   "source": [
    "df = df.drop(['skip', 'saldo', 'd'])\n",
    "df"
   ]
  },
  {
   "cell_type": "code",
   "execution_count": 4,
   "metadata": {},
   "outputs": [
    {
     "data": {
      "text/html": [
       "<div><style>\n",
       ".dataframe > thead > tr,\n",
       ".dataframe > tbody > tr {\n",
       "  text-align: right;\n",
       "  white-space: pre-wrap;\n",
       "}\n",
       "</style>\n",
       "<small>shape: (5_495, 2)</small><table border=\"1\" class=\"dataframe\"><thead><tr><th>also_operation</th><th>count</th></tr><tr><td>str</td><td>u32</td></tr></thead><tbody><tr><td>&quot;12-33WA-117Z Туфли женские к.к…</td><td>1</td></tr><tr><td>&quot;898626/02-02Z Ботинки для акти…</td><td>1</td></tr><tr><td>&quot;KD605 Ботинки мужские кожа/шер…</td><td>1</td></tr><tr><td>&quot;corb1683c Стельки м/ж черн, Co…</td><td>1</td></tr><tr><td>&quot;99-92WB-035KR Ботинки женские …</td><td>1</td></tr><tr><td>&hellip;</td><td>&hellip;</td></tr><tr><td>&quot;Оприходованы ТМЦ&quot;</td><td>9671</td></tr><tr><td>&quot;Перемещение между складами&quot;</td><td>10748</td></tr><tr><td>&quot;Реализация&quot;</td><td>60776</td></tr><tr><td>&quot;&lt;...&gt;&quot;</td><td>62179</td></tr><tr><td>&quot;Кол-во&quot;</td><td>85469</td></tr></tbody></table></div>"
      ],
      "text/plain": [
       "shape: (5_495, 2)\n",
       "┌─────────────────────────────────┬───────┐\n",
       "│ also_operation                  ┆ count │\n",
       "│ ---                             ┆ ---   │\n",
       "│ str                             ┆ u32   │\n",
       "╞═════════════════════════════════╪═══════╡\n",
       "│ 12-33WA-117Z Туфли женские к.к… ┆ 1     │\n",
       "│ 898626/02-02Z Ботинки для акти… ┆ 1     │\n",
       "│ KD605 Ботинки мужские кожа/шер… ┆ 1     │\n",
       "│ corb1683c Стельки м/ж черн, Co… ┆ 1     │\n",
       "│ 99-92WB-035KR Ботинки женские … ┆ 1     │\n",
       "│ …                               ┆ …     │\n",
       "│ Оприходованы ТМЦ                ┆ 9671  │\n",
       "│ Перемещение между складами      ┆ 10748 │\n",
       "│ Реализация                      ┆ 60776 │\n",
       "│ <...>                           ┆ 62179 │\n",
       "│ Кол-во                          ┆ 85469 │\n",
       "└─────────────────────────────────┴───────┘"
      ]
     },
     "execution_count": 4,
     "metadata": {},
     "output_type": "execute_result"
    }
   ],
   "source": [
    "df['also_operation'].value_counts().sort('count')"
   ]
  },
  {
   "cell_type": "code",
   "execution_count": 5,
   "metadata": {},
   "outputs": [
    {
     "data": {
      "text/html": [
       "<div><style>\n",
       ".dataframe > thead > tr,\n",
       ".dataframe > tbody > tr {\n",
       "  text-align: right;\n",
       "  white-space: pre-wrap;\n",
       "}\n",
       "</style>\n",
       "<small>shape: (289_015, 7)</small><table border=\"1\" class=\"dataframe\"><thead><tr><th>data</th><th>operation</th><th>also_operation</th><th>debet_number</th><th>debet_rub</th><th>credit_number</th><th>credit_rub</th></tr><tr><td>str</td><td>str</td><td>str</td><td>str</td><td>str</td><td>str</td><td>str</td></tr></thead><tbody><tr><td>&quot;01.02.2021&quot;</td><td>&quot;Возврат товаров от покупателя …</td><td>&quot;Возврат из розницы&quot;</td><td>&quot;41.01&quot;</td><td>&quot;494,07&quot;</td><td>&quot;41.02&quot;</td><td>&quot;494,07&quot;</td></tr><tr><td>null</td><td>null</td><td>&quot;YU-91-10868-001 Мешок для обув…</td><td>null</td><td>null</td><td>null</td><td>null</td></tr><tr><td>null</td><td>null</td><td>&quot;YU-91-10868-001 Мешок для обув…</td><td>null</td><td>null</td><td>null</td><td>null</td></tr><tr><td>null</td><td>null</td><td>&quot;Кол-во&quot;</td><td>null</td><td>&quot;8,000&quot;</td><td>null</td><td>&quot;8,000&quot;</td></tr><tr><td>&quot;01.02.2021&quot;</td><td>&quot;Поступление товаров и услуг ЦБ…</td><td>&quot;Оприходованы ТМЦ&quot;</td><td>&quot;41.01&quot;</td><td>&quot;6 162,00&quot;</td><td>&quot;60.01&quot;</td><td>null</td></tr><tr><td>&hellip;</td><td>&hellip;</td><td>&hellip;</td><td>&hellip;</td><td>&hellip;</td><td>&hellip;</td><td>&hellip;</td></tr><tr><td>null</td><td>null</td><td>&quot;77-02WA-015SW Ботинки женские …</td><td>null</td><td>null</td><td>null</td><td>null</td></tr><tr><td>null</td><td>null</td><td>&quot;Кол-во&quot;</td><td>null</td><td>null</td><td>null</td><td>&quot;-1,000&quot;</td></tr><tr><td>&quot;07.02.2021&quot;</td><td>&quot;Сторно отчета комиссионера о п…</td><td>&quot;Сторно реализации розницы&quot;</td><td>&quot;90.02.1&quot;</td><td>null</td><td>&quot;41.02&quot;</td><td>&quot;-612,66&quot;</td></tr><tr><td>null</td><td>null</td><td>&quot;203-32WN-113TW Ботинки женские…</td><td>null</td><td>null</td><td>null</td><td>null</td></tr><tr><td>null</td><td>null</td><td>&quot;Кол-во&quot;</td><td>null</td><td>null</td><td>null</td><td>&quot;-1,000&quot;</td></tr></tbody></table></div>"
      ],
      "text/plain": [
       "shape: (289_015, 7)\n",
       "┌────────────┬───────────────┬──────────────┬──────────────┬───────────┬──────────────┬────────────┐\n",
       "│ data       ┆ operation     ┆ also_operati ┆ debet_number ┆ debet_rub ┆ credit_numbe ┆ credit_rub │\n",
       "│ ---        ┆ ---           ┆ on           ┆ ---          ┆ ---       ┆ r            ┆ ---        │\n",
       "│ str        ┆ str           ┆ ---          ┆ str          ┆ str       ┆ ---          ┆ str        │\n",
       "│            ┆               ┆ str          ┆              ┆           ┆ str          ┆            │\n",
       "╞════════════╪═══════════════╪══════════════╪══════════════╪═══════════╪══════════════╪════════════╡\n",
       "│ 01.02.2021 ┆ Возврат       ┆ Возврат из   ┆ 41.01        ┆ 494,07    ┆ 41.02        ┆ 494,07     │\n",
       "│            ┆ товаров от    ┆ розницы      ┆              ┆           ┆              ┆            │\n",
       "│            ┆ покупателя …  ┆              ┆              ┆           ┆              ┆            │\n",
       "│ null       ┆ null          ┆ YU-91-10868- ┆ null         ┆ null      ┆ null         ┆ null       │\n",
       "│            ┆               ┆ 001 Мешок    ┆              ┆           ┆              ┆            │\n",
       "│            ┆               ┆ для обув…    ┆              ┆           ┆              ┆            │\n",
       "│ null       ┆ null          ┆ YU-91-10868- ┆ null         ┆ null      ┆ null         ┆ null       │\n",
       "│            ┆               ┆ 001 Мешок    ┆              ┆           ┆              ┆            │\n",
       "│            ┆               ┆ для обув…    ┆              ┆           ┆              ┆            │\n",
       "│ null       ┆ null          ┆ Кол-во       ┆ null         ┆ 8,000     ┆ null         ┆ 8,000      │\n",
       "│ 01.02.2021 ┆ Поступление   ┆ Оприходованы ┆ 41.01        ┆ 6 162,00  ┆ 60.01        ┆ null       │\n",
       "│            ┆ товаров и     ┆ ТМЦ          ┆              ┆           ┆              ┆            │\n",
       "│            ┆ услуг ЦБ…     ┆              ┆              ┆           ┆              ┆            │\n",
       "│ …          ┆ …             ┆ …            ┆ …            ┆ …         ┆ …            ┆ …          │\n",
       "│ null       ┆ null          ┆ 77-02WA-015S ┆ null         ┆ null      ┆ null         ┆ null       │\n",
       "│            ┆               ┆ W Ботинки    ┆              ┆           ┆              ┆            │\n",
       "│            ┆               ┆ женские …    ┆              ┆           ┆              ┆            │\n",
       "│ null       ┆ null          ┆ Кол-во       ┆ null         ┆ null      ┆ null         ┆ -1,000     │\n",
       "│ 07.02.2021 ┆ Сторно отчета ┆ Сторно       ┆ 90.02.1      ┆ null      ┆ 41.02        ┆ -612,66    │\n",
       "│            ┆ комиссионера  ┆ реализации   ┆              ┆           ┆              ┆            │\n",
       "│            ┆ о п…          ┆ розницы      ┆              ┆           ┆              ┆            │\n",
       "│ null       ┆ null          ┆ 203-32WN-113 ┆ null         ┆ null      ┆ null         ┆ null       │\n",
       "│            ┆               ┆ TW Ботинки   ┆              ┆           ┆              ┆            │\n",
       "│            ┆               ┆ женские…     ┆              ┆           ┆              ┆            │\n",
       "│ null       ┆ null          ┆ Кол-во       ┆ null         ┆ null      ┆ null         ┆ -1,000     │\n",
       "└────────────┴───────────────┴──────────────┴──────────────┴───────────┴──────────────┴────────────┘"
      ]
     },
     "execution_count": 5,
     "metadata": {},
     "output_type": "execute_result"
    }
   ],
   "source": [
    "df = df.filter(~pl.all_horizontal(pl.col('also_operation') == \"<...>\"))\n",
    "df"
   ]
  },
  {
   "cell_type": "code",
   "execution_count": 6,
   "metadata": {},
   "outputs": [
    {
     "data": {
      "text/html": [
       "<div><style>\n",
       ".dataframe > thead > tr,\n",
       ".dataframe > tbody > tr {\n",
       "  text-align: right;\n",
       "  white-space: pre-wrap;\n",
       "}\n",
       "</style>\n",
       "<small>shape: (60_776, 7)</small><table border=\"1\" class=\"dataframe\"><thead><tr><th>data</th><th>operation</th><th>also_operation</th><th>debet_number</th><th>debet_rub</th><th>credit_number</th><th>credit_rub</th></tr><tr><td>str</td><td>str</td><td>str</td><td>str</td><td>str</td><td>str</td><td>str</td></tr></thead><tbody><tr><td>&quot;01.02.2021&quot;</td><td>&quot;Реализация товаров и услуг ЦБ-…</td><td>&quot;Реализация&quot;</td><td>&quot;90.02.1&quot;</td><td>null</td><td>&quot;41.01&quot;</td><td>&quot;2 462,58&quot;</td></tr><tr><td>&quot;01.02.2021&quot;</td><td>&quot;Реализация товаров и услуг ЦБ-…</td><td>&quot;Реализация&quot;</td><td>&quot;90.02.1&quot;</td><td>null</td><td>&quot;41.01&quot;</td><td>&quot;5 428,78&quot;</td></tr><tr><td>&quot;01.02.2021&quot;</td><td>&quot;Реализация товаров и услуг ЦБ-…</td><td>&quot;Реализация&quot;</td><td>&quot;90.02.1&quot;</td><td>null</td><td>&quot;41.01&quot;</td><td>&quot;7 665,52&quot;</td></tr><tr><td>&quot;01.02.2021&quot;</td><td>&quot;Реализация товаров и услуг ЦБ-…</td><td>&quot;Реализация&quot;</td><td>&quot;90.02.1&quot;</td><td>null</td><td>&quot;41.01&quot;</td><td>&quot;5 235,55&quot;</td></tr><tr><td>&quot;01.02.2021&quot;</td><td>&quot;Реализация товаров и услуг ЦБ-…</td><td>&quot;Реализация&quot;</td><td>&quot;90.02.1&quot;</td><td>null</td><td>&quot;41.01&quot;</td><td>&quot;8 430,56&quot;</td></tr><tr><td>&hellip;</td><td>&hellip;</td><td>&hellip;</td><td>&hellip;</td><td>&hellip;</td><td>&hellip;</td><td>&hellip;</td></tr><tr><td>&quot;07.02.2021&quot;</td><td>&quot;Отчет комиссионера о продажах …</td><td>&quot;Реализация&quot;</td><td>&quot;90.02.1&quot;</td><td>null</td><td>&quot;41.02&quot;</td><td>&quot;1 409,85&quot;</td></tr><tr><td>&quot;07.02.2021&quot;</td><td>&quot;Отчет комиссионера о продажах …</td><td>&quot;Реализация&quot;</td><td>&quot;90.02.1&quot;</td><td>null</td><td>&quot;41.02&quot;</td><td>&quot;835,12&quot;</td></tr><tr><td>&quot;07.02.2021&quot;</td><td>&quot;Отчет комиссионера о продажах …</td><td>&quot;Реализация&quot;</td><td>&quot;90.02.1&quot;</td><td>null</td><td>&quot;41.02&quot;</td><td>&quot;12,34&quot;</td></tr><tr><td>&quot;07.02.2021&quot;</td><td>&quot;Отчет комиссионера о продажах …</td><td>&quot;Реализация&quot;</td><td>&quot;90.02.1&quot;</td><td>null</td><td>&quot;41.02&quot;</td><td>&quot;40,81&quot;</td></tr><tr><td>&quot;07.02.2021&quot;</td><td>&quot;Отчет комиссионера о продажах …</td><td>&quot;Реализация&quot;</td><td>&quot;90.02.1&quot;</td><td>null</td><td>&quot;41.02&quot;</td><td>&quot;150,25&quot;</td></tr></tbody></table></div>"
      ],
      "text/plain": [
       "shape: (60_776, 7)\n",
       "┌────────────┬───────────────┬──────────────┬──────────────┬───────────┬──────────────┬────────────┐\n",
       "│ data       ┆ operation     ┆ also_operati ┆ debet_number ┆ debet_rub ┆ credit_numbe ┆ credit_rub │\n",
       "│ ---        ┆ ---           ┆ on           ┆ ---          ┆ ---       ┆ r            ┆ ---        │\n",
       "│ str        ┆ str           ┆ ---          ┆ str          ┆ str       ┆ ---          ┆ str        │\n",
       "│            ┆               ┆ str          ┆              ┆           ┆ str          ┆            │\n",
       "╞════════════╪═══════════════╪══════════════╪══════════════╪═══════════╪══════════════╪════════════╡\n",
       "│ 01.02.2021 ┆ Реализация    ┆ Реализация   ┆ 90.02.1      ┆ null      ┆ 41.01        ┆ 2 462,58   │\n",
       "│            ┆ товаров и     ┆              ┆              ┆           ┆              ┆            │\n",
       "│            ┆ услуг ЦБ-…    ┆              ┆              ┆           ┆              ┆            │\n",
       "│ 01.02.2021 ┆ Реализация    ┆ Реализация   ┆ 90.02.1      ┆ null      ┆ 41.01        ┆ 5 428,78   │\n",
       "│            ┆ товаров и     ┆              ┆              ┆           ┆              ┆            │\n",
       "│            ┆ услуг ЦБ-…    ┆              ┆              ┆           ┆              ┆            │\n",
       "│ 01.02.2021 ┆ Реализация    ┆ Реализация   ┆ 90.02.1      ┆ null      ┆ 41.01        ┆ 7 665,52   │\n",
       "│            ┆ товаров и     ┆              ┆              ┆           ┆              ┆            │\n",
       "│            ┆ услуг ЦБ-…    ┆              ┆              ┆           ┆              ┆            │\n",
       "│ 01.02.2021 ┆ Реализация    ┆ Реализация   ┆ 90.02.1      ┆ null      ┆ 41.01        ┆ 5 235,55   │\n",
       "│            ┆ товаров и     ┆              ┆              ┆           ┆              ┆            │\n",
       "│            ┆ услуг ЦБ-…    ┆              ┆              ┆           ┆              ┆            │\n",
       "│ 01.02.2021 ┆ Реализация    ┆ Реализация   ┆ 90.02.1      ┆ null      ┆ 41.01        ┆ 8 430,56   │\n",
       "│            ┆ товаров и     ┆              ┆              ┆           ┆              ┆            │\n",
       "│            ┆ услуг ЦБ-…    ┆              ┆              ┆           ┆              ┆            │\n",
       "│ …          ┆ …             ┆ …            ┆ …            ┆ …         ┆ …            ┆ …          │\n",
       "│ 07.02.2021 ┆ Отчет         ┆ Реализация   ┆ 90.02.1      ┆ null      ┆ 41.02        ┆ 1 409,85   │\n",
       "│            ┆ комиссионера  ┆              ┆              ┆           ┆              ┆            │\n",
       "│            ┆ о продажах …  ┆              ┆              ┆           ┆              ┆            │\n",
       "│ 07.02.2021 ┆ Отчет         ┆ Реализация   ┆ 90.02.1      ┆ null      ┆ 41.02        ┆ 835,12     │\n",
       "│            ┆ комиссионера  ┆              ┆              ┆           ┆              ┆            │\n",
       "│            ┆ о продажах …  ┆              ┆              ┆           ┆              ┆            │\n",
       "│ 07.02.2021 ┆ Отчет         ┆ Реализация   ┆ 90.02.1      ┆ null      ┆ 41.02        ┆ 12,34      │\n",
       "│            ┆ комиссионера  ┆              ┆              ┆           ┆              ┆            │\n",
       "│            ┆ о продажах …  ┆              ┆              ┆           ┆              ┆            │\n",
       "│ 07.02.2021 ┆ Отчет         ┆ Реализация   ┆ 90.02.1      ┆ null      ┆ 41.02        ┆ 40,81      │\n",
       "│            ┆ комиссионера  ┆              ┆              ┆           ┆              ┆            │\n",
       "│            ┆ о продажах …  ┆              ┆              ┆           ┆              ┆            │\n",
       "│ 07.02.2021 ┆ Отчет         ┆ Реализация   ┆ 90.02.1      ┆ null      ┆ 41.02        ┆ 150,25     │\n",
       "│            ┆ комиссионера  ┆              ┆              ┆           ┆              ┆            │\n",
       "│            ┆ о продажах …  ┆              ┆              ┆           ┆              ┆            │\n",
       "└────────────┴───────────────┴──────────────┴──────────────┴───────────┴──────────────┴────────────┘"
      ]
     },
     "execution_count": 6,
     "metadata": {},
     "output_type": "execute_result"
    }
   ],
   "source": [
    "df.filter(\n",
    "    pl.col('also_operation') == 'Реализация'\n",
    ")"
   ]
  },
  {
   "cell_type": "code",
   "execution_count": 7,
   "metadata": {},
   "outputs": [
    {
     "data": {
      "text/html": [
       "<div><style>\n",
       ".dataframe > thead > tr,\n",
       ".dataframe > tbody > tr {\n",
       "  text-align: right;\n",
       "  white-space: pre-wrap;\n",
       "}\n",
       "</style>\n",
       "<small>shape: (289_015, 7)</small><table border=\"1\" class=\"dataframe\"><thead><tr><th>data</th><th>operation</th><th>also_operation</th><th>debet_number</th><th>debet_rub</th><th>credit_number</th><th>credit_rub</th></tr><tr><td>str</td><td>str</td><td>str</td><td>str</td><td>str</td><td>str</td><td>str</td></tr></thead><tbody><tr><td>&quot;01.02.2021&quot;</td><td>&quot;Возврат товаров от покупателя …</td><td>&quot;Возврат из розницы&quot;</td><td>&quot;41.01&quot;</td><td>&quot;494,07&quot;</td><td>&quot;41.02&quot;</td><td>&quot;494,07&quot;</td></tr><tr><td>null</td><td>null</td><td>&quot;YU-91-10868-001 Мешок для обув…</td><td>null</td><td>null</td><td>null</td><td>null</td></tr><tr><td>null</td><td>null</td><td>&quot;YU-91-10868-001 Мешок для обув…</td><td>null</td><td>null</td><td>null</td><td>null</td></tr><tr><td>null</td><td>null</td><td>&quot;Кол-во&quot;</td><td>null</td><td>&quot;8,000&quot;</td><td>null</td><td>&quot;8,000&quot;</td></tr><tr><td>&quot;01.02.2021&quot;</td><td>&quot;Поступление товаров и услуг ЦБ…</td><td>&quot;Оприходованы ТМЦ&quot;</td><td>&quot;41.01&quot;</td><td>&quot;6 162,00&quot;</td><td>&quot;60.01&quot;</td><td>null</td></tr><tr><td>&hellip;</td><td>&hellip;</td><td>&hellip;</td><td>&hellip;</td><td>&hellip;</td><td>&hellip;</td><td>&hellip;</td></tr><tr><td>null</td><td>null</td><td>&quot;77-02WA-015SW Ботинки женские …</td><td>null</td><td>null</td><td>null</td><td>null</td></tr><tr><td>null</td><td>null</td><td>&quot;Кол-во&quot;</td><td>null</td><td>null</td><td>null</td><td>&quot;-1,000&quot;</td></tr><tr><td>&quot;07.02.2021&quot;</td><td>&quot;Сторно отчета комиссионера о п…</td><td>&quot;Сторно реализации розницы&quot;</td><td>&quot;90.02.1&quot;</td><td>null</td><td>&quot;41.02&quot;</td><td>&quot;-612,66&quot;</td></tr><tr><td>null</td><td>null</td><td>&quot;203-32WN-113TW Ботинки женские…</td><td>null</td><td>null</td><td>null</td><td>null</td></tr><tr><td>null</td><td>null</td><td>&quot;Кол-во&quot;</td><td>null</td><td>null</td><td>null</td><td>&quot;-1,000&quot;</td></tr></tbody></table></div>"
      ],
      "text/plain": [
       "shape: (289_015, 7)\n",
       "┌────────────┬───────────────┬──────────────┬──────────────┬───────────┬──────────────┬────────────┐\n",
       "│ data       ┆ operation     ┆ also_operati ┆ debet_number ┆ debet_rub ┆ credit_numbe ┆ credit_rub │\n",
       "│ ---        ┆ ---           ┆ on           ┆ ---          ┆ ---       ┆ r            ┆ ---        │\n",
       "│ str        ┆ str           ┆ ---          ┆ str          ┆ str       ┆ ---          ┆ str        │\n",
       "│            ┆               ┆ str          ┆              ┆           ┆ str          ┆            │\n",
       "╞════════════╪═══════════════╪══════════════╪══════════════╪═══════════╪══════════════╪════════════╡\n",
       "│ 01.02.2021 ┆ Возврат       ┆ Возврат из   ┆ 41.01        ┆ 494,07    ┆ 41.02        ┆ 494,07     │\n",
       "│            ┆ товаров от    ┆ розницы      ┆              ┆           ┆              ┆            │\n",
       "│            ┆ покупателя …  ┆              ┆              ┆           ┆              ┆            │\n",
       "│ null       ┆ null          ┆ YU-91-10868- ┆ null         ┆ null      ┆ null         ┆ null       │\n",
       "│            ┆               ┆ 001 Мешок    ┆              ┆           ┆              ┆            │\n",
       "│            ┆               ┆ для обув…    ┆              ┆           ┆              ┆            │\n",
       "│ null       ┆ null          ┆ YU-91-10868- ┆ null         ┆ null      ┆ null         ┆ null       │\n",
       "│            ┆               ┆ 001 Мешок    ┆              ┆           ┆              ┆            │\n",
       "│            ┆               ┆ для обув…    ┆              ┆           ┆              ┆            │\n",
       "│ null       ┆ null          ┆ Кол-во       ┆ null         ┆ 8,000     ┆ null         ┆ 8,000      │\n",
       "│ 01.02.2021 ┆ Поступление   ┆ Оприходованы ┆ 41.01        ┆ 6 162,00  ┆ 60.01        ┆ null       │\n",
       "│            ┆ товаров и     ┆ ТМЦ          ┆              ┆           ┆              ┆            │\n",
       "│            ┆ услуг ЦБ…     ┆              ┆              ┆           ┆              ┆            │\n",
       "│ …          ┆ …             ┆ …            ┆ …            ┆ …         ┆ …            ┆ …          │\n",
       "│ null       ┆ null          ┆ 77-02WA-015S ┆ null         ┆ null      ┆ null         ┆ null       │\n",
       "│            ┆               ┆ W Ботинки    ┆              ┆           ┆              ┆            │\n",
       "│            ┆               ┆ женские …    ┆              ┆           ┆              ┆            │\n",
       "│ null       ┆ null          ┆ Кол-во       ┆ null         ┆ null      ┆ null         ┆ -1,000     │\n",
       "│ 07.02.2021 ┆ Сторно отчета ┆ Сторно       ┆ 90.02.1      ┆ null      ┆ 41.02        ┆ -612,66    │\n",
       "│            ┆ комиссионера  ┆ реализации   ┆              ┆           ┆              ┆            │\n",
       "│            ┆ о п…          ┆ розницы      ┆              ┆           ┆              ┆            │\n",
       "│ null       ┆ null          ┆ 203-32WN-113 ┆ null         ┆ null      ┆ null         ┆ null       │\n",
       "│            ┆               ┆ TW Ботинки   ┆              ┆           ┆              ┆            │\n",
       "│            ┆               ┆ женские…     ┆              ┆           ┆              ┆            │\n",
       "│ null       ┆ null          ┆ Кол-во       ┆ null         ┆ null      ┆ null         ┆ -1,000     │\n",
       "└────────────┴───────────────┴──────────────┴──────────────┴───────────┴──────────────┴────────────┘"
      ]
     },
     "execution_count": 7,
     "metadata": {},
     "output_type": "execute_result"
    }
   ],
   "source": [
    "df = df.filter(~pl.all_horizontal(pl.all().is_null()))\n",
    "df"
   ]
  },
  {
   "cell_type": "code",
   "execution_count": 8,
   "metadata": {},
   "outputs": [
    {
     "data": {
      "text/html": [
       "<div><style>\n",
       ".dataframe > thead > tr,\n",
       ".dataframe > tbody > tr {\n",
       "  text-align: right;\n",
       "  white-space: pre-wrap;\n",
       "}\n",
       "</style>\n",
       "<small>shape: (289_015, 8)</small><table border=\"1\" class=\"dataframe\"><thead><tr><th>data</th><th>operation</th><th>also_operation</th><th>debet_number</th><th>debet_rub</th><th>credit_number</th><th>credit_rub</th><th>separator</th></tr><tr><td>str</td><td>str</td><td>str</td><td>str</td><td>str</td><td>str</td><td>str</td><td>u32</td></tr></thead><tbody><tr><td>&quot;01.02.2021&quot;</td><td>&quot;Возврат товаров от покупателя …</td><td>&quot;Возврат из розницы&quot;</td><td>&quot;41.01&quot;</td><td>&quot;494,07&quot;</td><td>&quot;41.02&quot;</td><td>&quot;494,07&quot;</td><td>1</td></tr><tr><td>null</td><td>null</td><td>&quot;YU-91-10868-001 Мешок для обув…</td><td>null</td><td>null</td><td>null</td><td>null</td><td>1</td></tr><tr><td>null</td><td>null</td><td>&quot;YU-91-10868-001 Мешок для обув…</td><td>null</td><td>null</td><td>null</td><td>null</td><td>1</td></tr><tr><td>null</td><td>null</td><td>&quot;Кол-во&quot;</td><td>null</td><td>&quot;8,000&quot;</td><td>null</td><td>&quot;8,000&quot;</td><td>1</td></tr><tr><td>&quot;01.02.2021&quot;</td><td>&quot;Поступление товаров и услуг ЦБ…</td><td>&quot;Оприходованы ТМЦ&quot;</td><td>&quot;41.01&quot;</td><td>&quot;6 162,00&quot;</td><td>&quot;60.01&quot;</td><td>null</td><td>2</td></tr><tr><td>&hellip;</td><td>&hellip;</td><td>&hellip;</td><td>&hellip;</td><td>&hellip;</td><td>&hellip;</td><td>&hellip;</td><td>&hellip;</td></tr><tr><td>null</td><td>null</td><td>&quot;77-02WA-015SW Ботинки женские …</td><td>null</td><td>null</td><td>null</td><td>null</td><td>85468</td></tr><tr><td>null</td><td>null</td><td>&quot;Кол-во&quot;</td><td>null</td><td>null</td><td>null</td><td>&quot;-1,000&quot;</td><td>85468</td></tr><tr><td>&quot;07.02.2021&quot;</td><td>&quot;Сторно отчета комиссионера о п…</td><td>&quot;Сторно реализации розницы&quot;</td><td>&quot;90.02.1&quot;</td><td>null</td><td>&quot;41.02&quot;</td><td>&quot;-612,66&quot;</td><td>85469</td></tr><tr><td>null</td><td>null</td><td>&quot;203-32WN-113TW Ботинки женские…</td><td>null</td><td>null</td><td>null</td><td>null</td><td>85469</td></tr><tr><td>null</td><td>null</td><td>&quot;Кол-во&quot;</td><td>null</td><td>null</td><td>null</td><td>&quot;-1,000&quot;</td><td>85469</td></tr></tbody></table></div>"
      ],
      "text/plain": [
       "shape: (289_015, 8)\n",
       "┌────────────┬────────────┬────────────┬───────────┬───────────┬───────────┬───────────┬───────────┐\n",
       "│ data       ┆ operation  ┆ also_opera ┆ debet_num ┆ debet_rub ┆ credit_nu ┆ credit_ru ┆ separator │\n",
       "│ ---        ┆ ---        ┆ tion       ┆ ber       ┆ ---       ┆ mber      ┆ b         ┆ ---       │\n",
       "│ str        ┆ str        ┆ ---        ┆ ---       ┆ str       ┆ ---       ┆ ---       ┆ u32       │\n",
       "│            ┆            ┆ str        ┆ str       ┆           ┆ str       ┆ str       ┆           │\n",
       "╞════════════╪════════════╪════════════╪═══════════╪═══════════╪═══════════╪═══════════╪═══════════╡\n",
       "│ 01.02.2021 ┆ Возврат    ┆ Возврат из ┆ 41.01     ┆ 494,07    ┆ 41.02     ┆ 494,07    ┆ 1         │\n",
       "│            ┆ товаров от ┆ розницы    ┆           ┆           ┆           ┆           ┆           │\n",
       "│            ┆ покупателя ┆            ┆           ┆           ┆           ┆           ┆           │\n",
       "│            ┆ …          ┆            ┆           ┆           ┆           ┆           ┆           │\n",
       "│ null       ┆ null       ┆ YU-91-1086 ┆ null      ┆ null      ┆ null      ┆ null      ┆ 1         │\n",
       "│            ┆            ┆ 8-001      ┆           ┆           ┆           ┆           ┆           │\n",
       "│            ┆            ┆ Мешок для  ┆           ┆           ┆           ┆           ┆           │\n",
       "│            ┆            ┆ обув…      ┆           ┆           ┆           ┆           ┆           │\n",
       "│ null       ┆ null       ┆ YU-91-1086 ┆ null      ┆ null      ┆ null      ┆ null      ┆ 1         │\n",
       "│            ┆            ┆ 8-001      ┆           ┆           ┆           ┆           ┆           │\n",
       "│            ┆            ┆ Мешок для  ┆           ┆           ┆           ┆           ┆           │\n",
       "│            ┆            ┆ обув…      ┆           ┆           ┆           ┆           ┆           │\n",
       "│ null       ┆ null       ┆ Кол-во     ┆ null      ┆ 8,000     ┆ null      ┆ 8,000     ┆ 1         │\n",
       "│ 01.02.2021 ┆ Поступлени ┆ Оприходова ┆ 41.01     ┆ 6 162,00  ┆ 60.01     ┆ null      ┆ 2         │\n",
       "│            ┆ е товаров  ┆ ны ТМЦ     ┆           ┆           ┆           ┆           ┆           │\n",
       "│            ┆ и услуг    ┆            ┆           ┆           ┆           ┆           ┆           │\n",
       "│            ┆ ЦБ…        ┆            ┆           ┆           ┆           ┆           ┆           │\n",
       "│ …          ┆ …          ┆ …          ┆ …         ┆ …         ┆ …         ┆ …         ┆ …         │\n",
       "│ null       ┆ null       ┆ 77-02WA-01 ┆ null      ┆ null      ┆ null      ┆ null      ┆ 85468     │\n",
       "│            ┆            ┆ 5SW        ┆           ┆           ┆           ┆           ┆           │\n",
       "│            ┆            ┆ Ботинки    ┆           ┆           ┆           ┆           ┆           │\n",
       "│            ┆            ┆ женские …  ┆           ┆           ┆           ┆           ┆           │\n",
       "│ null       ┆ null       ┆ Кол-во     ┆ null      ┆ null      ┆ null      ┆ -1,000    ┆ 85468     │\n",
       "│ 07.02.2021 ┆ Сторно     ┆ Сторно     ┆ 90.02.1   ┆ null      ┆ 41.02     ┆ -612,66   ┆ 85469     │\n",
       "│            ┆ отчета ком ┆ реализации ┆           ┆           ┆           ┆           ┆           │\n",
       "│            ┆ иссионера  ┆ розницы    ┆           ┆           ┆           ┆           ┆           │\n",
       "│            ┆ о п…       ┆            ┆           ┆           ┆           ┆           ┆           │\n",
       "│ null       ┆ null       ┆ 203-32WN-1 ┆ null      ┆ null      ┆ null      ┆ null      ┆ 85469     │\n",
       "│            ┆            ┆ 13TW       ┆           ┆           ┆           ┆           ┆           │\n",
       "│            ┆            ┆ Ботинки    ┆           ┆           ┆           ┆           ┆           │\n",
       "│            ┆            ┆ женские…   ┆           ┆           ┆           ┆           ┆           │\n",
       "│ null       ┆ null       ┆ Кол-во     ┆ null      ┆ null      ┆ null      ┆ -1,000    ┆ 85469     │\n",
       "└────────────┴────────────┴────────────┴───────────┴───────────┴───────────┴───────────┴───────────┘"
      ]
     },
     "execution_count": 8,
     "metadata": {},
     "output_type": "execute_result"
    }
   ],
   "source": [
    "df = df.with_columns(\n",
    "    pl.col('data').is_not_null().cum_sum().alias('separator')\n",
    ")\n",
    "df"
   ]
  },
  {
   "cell_type": "code",
   "execution_count": 9,
   "metadata": {},
   "outputs": [
    {
     "data": {
      "text/html": [
       "<div><style>\n",
       ".dataframe > thead > tr,\n",
       ".dataframe > tbody > tr {\n",
       "  text-align: right;\n",
       "  white-space: pre-wrap;\n",
       "}\n",
       "</style>\n",
       "<small>shape: (85_469, 8)</small><table border=\"1\" class=\"dataframe\"><thead><tr><th>separator</th><th>also_operation</th><th>data</th><th>operation</th><th>debet_number</th><th>debet_rub</th><th>credit_number</th><th>credit_rub</th></tr><tr><td>u32</td><td>list[str]</td><td>list[str]</td><td>list[str]</td><td>list[str]</td><td>list[str]</td><td>list[str]</td><td>list[str]</td></tr></thead><tbody><tr><td>289</td><td>[&quot;Перемещение между складами&quot;, &quot;245-02WB-055KR Ботинки женские нат.кожа/ворсин черн, Zenden&quot;, &quot;Кол-во&quot;]</td><td>[&quot;01.02.2021&quot;]</td><td>[&quot;Реализация товаров и услуг ЦБ-СК-00042070 от 01.02.2021 10:27:18&quot;]</td><td>[&quot;41.02&quot;]</td><td>[&quot;12 841,07&quot;, &quot;8,000&quot;]</td><td>[&quot;41.01&quot;]</td><td>[&quot;12 841,07&quot;, &quot;8,000&quot;]</td></tr><tr><td>45243</td><td>[&quot;Перемещение между складами&quot;, &quot;58-02MV-427SW Ботинки для активного отдыха мужские и.кожа/и.мех корич, INSTREET&quot;, &quot;Кол-во&quot;]</td><td>[&quot;04.02.2021&quot;]</td><td>[&quot;Реализация товаров и услуг ЦБ-СК-00042743 от 04.02.2021 23:15:59&quot;]</td><td>[&quot;41.02&quot;]</td><td>[&quot;1 037,98&quot;, &quot;1,000&quot;]</td><td>[&quot;41.01&quot;]</td><td>[&quot;1 037,98&quot;, &quot;1,000&quot;]</td></tr><tr><td>83781</td><td>[&quot;Реализация&quot;, &quot;245-02WB-044SW Полусапоги женские и.кожа/и.мех черн, INSTREET&quot;, &quot;Кол-во&quot;]</td><td>[&quot;07.02.2021&quot;]</td><td>[&quot;Отчет комиссионера о продажах СК-00005877 от 07.02.2021 22:04:52&quot;]</td><td>[&quot;90.02.1&quot;]</td><td>[]</td><td>[&quot;41.02&quot;]</td><td>[&quot;922,50&quot;, &quot;1,000&quot;]</td></tr><tr><td>58117</td><td>[&quot;Реализация&quot;, &quot;64-02MV-025GW Ботинки для активного отдыха мужские и.нубук/и.мех корич, Pulse&quot;, &quot;Кол-во&quot;]</td><td>[&quot;06.02.2021&quot;]</td><td>[&quot;Отчет комиссионера о продажах СК-00005637 от 06.02.2021 19:09:29&quot;]</td><td>[&quot;90.02.1&quot;]</td><td>[]</td><td>[&quot;41.02&quot;]</td><td>[&quot;1 208,85&quot;, &quot;1,000&quot;]</td></tr><tr><td>26763</td><td>[&quot;Реализация&quot;, &quot;201-01WN-012FK Полуботинки для активного отдыха женские спилок/кожа-текстиль голуб, ZENDEN ACTIVE&quot;, &quot;Кол-во&quot;]</td><td>[&quot;03.02.2021&quot;]</td><td>[&quot;Отчет комиссионера о продажах СК-00005268 от 03.02.2021 20:48:59&quot;]</td><td>[&quot;90.02.1&quot;]</td><td>[]</td><td>[&quot;41.02&quot;]</td><td>[&quot;896,08&quot;, &quot;1,000&quot;]</td></tr><tr><td>&hellip;</td><td>&hellip;</td><td>&hellip;</td><td>&hellip;</td><td>&hellip;</td><td>&hellip;</td><td>&hellip;</td><td>&hellip;</td></tr><tr><td>15952</td><td>[&quot;Реализация&quot;, &quot;543-92WB-028KN Ботинки для активного отдыха женские кожа/шерсть бел, ZENDEN collection&quot;, &quot;Кол-во&quot;]</td><td>[&quot;02.02.2021&quot;]</td><td>[&quot;Реализация товаров и услуг ЦБ-СК-00042414 от 02.02.2021 20:18:31&quot;]</td><td>[&quot;90.02.1&quot;]</td><td>[]</td><td>[&quot;41.01&quot;]</td><td>[&quot;3 890,77&quot;, &quot;2,000&quot;]</td></tr><tr><td>19105</td><td>[&quot;Реализация&quot;, &quot;64-02MV-009SW Ботинки для активного отдыха мужские и.кожа-текстиль/и.мех синий, Pulse&quot;, &quot;Кол-во&quot;]</td><td>[&quot;02.02.2021&quot;]</td><td>[&quot;Отчет комиссионера о продажах СК-00005100 от 02.02.2021 21:57:49&quot;]</td><td>[&quot;90.02.1&quot;]</td><td>[]</td><td>[&quot;41.02&quot;]</td><td>[&quot;913,58&quot;, &quot;1,000&quot;]</td></tr><tr><td>67480</td><td>[&quot;Реализация&quot;, &quot;80-02WB-072KE Сапоги женские нат.кожа/мех-ворсин черн, Zenden&quot;, &quot;Кол-во&quot;]</td><td>[&quot;06.02.2021&quot;]</td><td>[&quot;Отчет комиссионера о продажах СК-00005659 от 06.02.2021 22:01:22&quot;]</td><td>[&quot;90.02.1&quot;]</td><td>[]</td><td>[&quot;41.02&quot;]</td><td>[&quot;2 774,19&quot;, &quot;1,000&quot;]</td></tr><tr><td>35626</td><td>[&quot;Оприходованы ТМЦ&quot;, &quot;AL-02BWC-001 Сумка женская нат.кожа/текстиль голуб, S, Franchesco Mariscotti&quot;, … &quot;Кол-во&quot;]</td><td>[&quot;04.02.2021&quot;]</td><td>[&quot;Поступление товаров и услуг ЦБ-СК-00002508 от 04.02.2021 15:53:20&quot;]</td><td>[&quot;41.01&quot;]</td><td>[&quot;4 398,75&quot;, &quot;3,000&quot;]</td><td>[&quot;60.01&quot;]</td><td>[]</td></tr><tr><td>20439</td><td>[&quot;Реализация&quot;, &quot;604-407-N2C Ботинки мужские кожа/шерсть корич, quattrocomforto&quot;, &quot;Кол-во&quot;]</td><td>[&quot;02.02.2021&quot;]</td><td>[&quot;Отчет комиссионера о продажах СК-00005164 от 02.02.2021 22:02:06&quot;]</td><td>[&quot;90.02.1&quot;]</td><td>[]</td><td>[&quot;41.02&quot;]</td><td>[&quot;1 967,04&quot;, &quot;1,000&quot;]</td></tr></tbody></table></div>"
      ],
      "text/plain": [
       "shape: (85_469, 8)\n",
       "┌───────────┬────────────┬────────────┬────────────┬───────────┬───────────┬───────────┬───────────┐\n",
       "│ separator ┆ also_opera ┆ data       ┆ operation  ┆ debet_num ┆ debet_rub ┆ credit_nu ┆ credit_ru │\n",
       "│ ---       ┆ tion       ┆ ---        ┆ ---        ┆ ber       ┆ ---       ┆ mber      ┆ b         │\n",
       "│ u32       ┆ ---        ┆ list[str]  ┆ list[str]  ┆ ---       ┆ list[str] ┆ ---       ┆ ---       │\n",
       "│           ┆ list[str]  ┆            ┆            ┆ list[str] ┆           ┆ list[str] ┆ list[str] │\n",
       "╞═══════════╪════════════╪════════════╪════════════╪═══════════╪═══════════╪═══════════╪═══════════╡\n",
       "│ 289       ┆ [\"Перемеще ┆ [\"01.02.20 ┆ [\"Реализац ┆ [\"41.02\"] ┆ [\"12 841, ┆ [\"41.01\"] ┆ [\"12 841, │\n",
       "│           ┆ ние между  ┆ 21\"]       ┆ ия товаров ┆           ┆ 07\",      ┆           ┆ 07\",      │\n",
       "│           ┆ складами\", ┆            ┆ и услуг Ц… ┆           ┆ \"8,000\"]  ┆           ┆ \"8,000\"]  │\n",
       "│           ┆ …          ┆            ┆            ┆           ┆           ┆           ┆           │\n",
       "│ 45243     ┆ [\"Перемеще ┆ [\"04.02.20 ┆ [\"Реализац ┆ [\"41.02\"] ┆ [\"1 037,9 ┆ [\"41.01\"] ┆ [\"1 037,9 │\n",
       "│           ┆ ние между  ┆ 21\"]       ┆ ия товаров ┆           ┆ 8\",       ┆           ┆ 8\",       │\n",
       "│           ┆ складами\", ┆            ┆ и услуг Ц… ┆           ┆ \"1,000\"]  ┆           ┆ \"1,000\"]  │\n",
       "│           ┆ …          ┆            ┆            ┆           ┆           ┆           ┆           │\n",
       "│ 83781     ┆ [\"Реализац ┆ [\"07.02.20 ┆ [\"Отчет    ┆ [\"90.02.1 ┆ []        ┆ [\"41.02\"] ┆ [\"922,50\" │\n",
       "│           ┆ ия\", \"245- ┆ 21\"]       ┆ комиссионе ┆ \"]        ┆           ┆           ┆ ,         │\n",
       "│           ┆ 02WB-044SW ┆            ┆ ра о       ┆           ┆           ┆           ┆ \"1,000\"]  │\n",
       "│           ┆ …          ┆            ┆ продажа…   ┆           ┆           ┆           ┆           │\n",
       "│ 58117     ┆ [\"Реализац ┆ [\"06.02.20 ┆ [\"Отчет    ┆ [\"90.02.1 ┆ []        ┆ [\"41.02\"] ┆ [\"1 208,8 │\n",
       "│           ┆ ия\", \"64-0 ┆ 21\"]       ┆ комиссионе ┆ \"]        ┆           ┆           ┆ 5\",       │\n",
       "│           ┆ 2MV-025GW  ┆            ┆ ра о       ┆           ┆           ┆           ┆ \"1,000\"]  │\n",
       "│           ┆ …          ┆            ┆ продажа…   ┆           ┆           ┆           ┆           │\n",
       "│ 26763     ┆ [\"Реализац ┆ [\"03.02.20 ┆ [\"Отчет    ┆ [\"90.02.1 ┆ []        ┆ [\"41.02\"] ┆ [\"896,08\" │\n",
       "│           ┆ ия\", \"201- ┆ 21\"]       ┆ комиссионе ┆ \"]        ┆           ┆           ┆ ,         │\n",
       "│           ┆ 01WN-012FK ┆            ┆ ра о       ┆           ┆           ┆           ┆ \"1,000\"]  │\n",
       "│           ┆ …          ┆            ┆ продажа…   ┆           ┆           ┆           ┆           │\n",
       "│ …         ┆ …          ┆ …          ┆ …          ┆ …         ┆ …         ┆ …         ┆ …         │\n",
       "│ 15952     ┆ [\"Реализац ┆ [\"02.02.20 ┆ [\"Реализац ┆ [\"90.02.1 ┆ []        ┆ [\"41.01\"] ┆ [\"3 890,7 │\n",
       "│           ┆ ия\", \"543- ┆ 21\"]       ┆ ия товаров ┆ \"]        ┆           ┆           ┆ 7\",       │\n",
       "│           ┆ 92WB-028KN ┆            ┆ и услуг Ц… ┆           ┆           ┆           ┆ \"2,000\"]  │\n",
       "│           ┆ …          ┆            ┆            ┆           ┆           ┆           ┆           │\n",
       "│ 19105     ┆ [\"Реализац ┆ [\"02.02.20 ┆ [\"Отчет    ┆ [\"90.02.1 ┆ []        ┆ [\"41.02\"] ┆ [\"913,58\" │\n",
       "│           ┆ ия\", \"64-0 ┆ 21\"]       ┆ комиссионе ┆ \"]        ┆           ┆           ┆ ,         │\n",
       "│           ┆ 2MV-009SW  ┆            ┆ ра о       ┆           ┆           ┆           ┆ \"1,000\"]  │\n",
       "│           ┆ …          ┆            ┆ продажа…   ┆           ┆           ┆           ┆           │\n",
       "│ 67480     ┆ [\"Реализац ┆ [\"06.02.20 ┆ [\"Отчет    ┆ [\"90.02.1 ┆ []        ┆ [\"41.02\"] ┆ [\"2 774,1 │\n",
       "│           ┆ ия\", \"80-0 ┆ 21\"]       ┆ комиссионе ┆ \"]        ┆           ┆           ┆ 9\",       │\n",
       "│           ┆ 2WB-072KE  ┆            ┆ ра о       ┆           ┆           ┆           ┆ \"1,000\"]  │\n",
       "│           ┆ …          ┆            ┆ продажа…   ┆           ┆           ┆           ┆           │\n",
       "│ 35626     ┆ [\"Оприходо ┆ [\"04.02.20 ┆ [\"Поступле ┆ [\"41.01\"] ┆ [\"4 398,7 ┆ [\"60.01\"] ┆ []        │\n",
       "│           ┆ ваны ТМЦ\", ┆ 21\"]       ┆ ние        ┆           ┆ 5\",       ┆           ┆           │\n",
       "│           ┆ \"AL-02BWC… ┆            ┆ товаров и  ┆           ┆ \"3,000\"]  ┆           ┆           │\n",
       "│           ┆            ┆            ┆ услуг …    ┆           ┆           ┆           ┆           │\n",
       "│ 20439     ┆ [\"Реализац ┆ [\"02.02.20 ┆ [\"Отчет    ┆ [\"90.02.1 ┆ []        ┆ [\"41.02\"] ┆ [\"1 967,0 │\n",
       "│           ┆ ия\", \"604- ┆ 21\"]       ┆ комиссионе ┆ \"]        ┆           ┆           ┆ 4\",       │\n",
       "│           ┆ 407-N2C    ┆            ┆ ра о       ┆           ┆           ┆           ┆ \"1,000\"]  │\n",
       "│           ┆ Бо…        ┆            ┆ продажа…   ┆           ┆           ┆           ┆           │\n",
       "└───────────┴────────────┴────────────┴────────────┴───────────┴───────────┴───────────┴───────────┘"
      ]
     },
     "execution_count": 9,
     "metadata": {},
     "output_type": "execute_result"
    }
   ],
   "source": [
    "new_df = df.group_by('separator').agg(\n",
    "    pl.col('also_operation').unique(maintain_order=True), pl.col(['data', 'operation', 'debet_number', 'debet_rub', 'credit_number', 'credit_rub']).drop_nulls()\n",
    ")\n",
    "new_df"
   ]
  },
  {
   "cell_type": "code",
   "execution_count": 10,
   "metadata": {},
   "outputs": [
    {
     "data": {
      "text/html": [
       "<div><style>\n",
       ".dataframe > thead > tr,\n",
       ".dataframe > tbody > tr {\n",
       "  text-align: right;\n",
       "  white-space: pre-wrap;\n",
       "}\n",
       "</style>\n",
       "<small>shape: (1, 8)</small><table border=\"1\" class=\"dataframe\"><thead><tr><th>separator</th><th>also_operation</th><th>data</th><th>operation</th><th>debet_number</th><th>debet_rub</th><th>credit_number</th><th>credit_rub</th></tr><tr><td>u32</td><td>list[str]</td><td>list[str]</td><td>list[str]</td><td>list[str]</td><td>list[str]</td><td>list[str]</td><td>list[str]</td></tr></thead><tbody><tr><td>121</td><td>[&quot;Списаны ТМЦ&quot;, &quot;Прочие расходы&quot;, … &quot;Кол-во&quot;]</td><td>[&quot;01.02.2021&quot;]</td><td>[&quot;Требование-накладная СК-00000088 от 01.02.2021 9:54:44&quot;]</td><td>[&quot;44.01.1&quot;]</td><td>[]</td><td>[&quot;41.01&quot;]</td><td>[&quot;16,24&quot;, &quot;1,000&quot;]</td></tr></tbody></table></div>"
      ],
      "text/plain": [
       "shape: (1, 8)\n",
       "┌───────────┬────────────┬────────────┬────────────┬───────────┬───────────┬───────────┬───────────┐\n",
       "│ separator ┆ also_opera ┆ data       ┆ operation  ┆ debet_num ┆ debet_rub ┆ credit_nu ┆ credit_ru │\n",
       "│ ---       ┆ tion       ┆ ---        ┆ ---        ┆ ber       ┆ ---       ┆ mber      ┆ b         │\n",
       "│ u32       ┆ ---        ┆ list[str]  ┆ list[str]  ┆ ---       ┆ list[str] ┆ ---       ┆ ---       │\n",
       "│           ┆ list[str]  ┆            ┆            ┆ list[str] ┆           ┆ list[str] ┆ list[str] │\n",
       "╞═══════════╪════════════╪════════════╪════════════╪═══════════╪═══════════╪═══════════╪═══════════╡\n",
       "│ 121       ┆ [\"Списаны  ┆ [\"01.02.20 ┆ [\"Требован ┆ [\"44.01.1 ┆ []        ┆ [\"41.01\"] ┆ [\"16,24\", │\n",
       "│           ┆ ТМЦ\",      ┆ 21\"]       ┆ ие-накладн ┆ \"]        ┆           ┆           ┆ \"1,000\"]  │\n",
       "│           ┆ \"Прочие    ┆            ┆ ая         ┆           ┆           ┆           ┆           │\n",
       "│           ┆ расход…    ┆            ┆ СК-0000…   ┆           ┆           ┆           ┆           │\n",
       "└───────────┴────────────┴────────────┴────────────┴───────────┴───────────┴───────────┴───────────┘"
      ]
     },
     "execution_count": 10,
     "metadata": {},
     "output_type": "execute_result"
    }
   ],
   "source": [
    "new_df.filter(\n",
    "    pl.any_horizontal(pl.col(['also_operation']).list.contains('г. Новокузнецк (Планета) Обособленное подразделениене не использовать с 03.06.2024'))\n",
    ")"
   ]
  },
  {
   "cell_type": "code",
   "execution_count": 11,
   "metadata": {},
   "outputs": [
    {
     "data": {
      "text/html": [
       "<div><style>\n",
       ".dataframe > thead > tr,\n",
       ".dataframe > tbody > tr {\n",
       "  text-align: right;\n",
       "  white-space: pre-wrap;\n",
       "}\n",
       "</style>\n",
       "<small>shape: (85_469, 8)</small><table border=\"1\" class=\"dataframe\"><thead><tr><th>separator</th><th>also_operation</th><th>data</th><th>operation</th><th>debet_number</th><th>debet_rub</th><th>credit_number</th><th>credit_rub</th></tr><tr><td>u32</td><td>list[str]</td><td>list[str]</td><td>list[str]</td><td>list[str]</td><td>list[str]</td><td>list[str]</td><td>list[str]</td></tr></thead><tbody><tr><td>289</td><td>[&quot;Перемещение между складами&quot;, &quot;245-02WB-055KR Ботинки женские нат.кожа/ворсин черн, Zenden&quot;, &quot;Кол-во&quot;]</td><td>[&quot;01.02.2021&quot;]</td><td>[&quot;Реализация товаров и услуг ЦБ-СК-00042070 от 01.02.2021 10:27:18&quot;]</td><td>[&quot;41.02&quot;]</td><td>[&quot;12 841,07&quot;, &quot;8,000&quot;]</td><td>[&quot;41.01&quot;]</td><td>[&quot;12 841,07&quot;, &quot;8,000&quot;]</td></tr><tr><td>45243</td><td>[&quot;Перемещение между складами&quot;, &quot;58-02MV-427SW Ботинки для активного отдыха мужские и.кожа/и.мех корич, INSTREET&quot;, &quot;Кол-во&quot;]</td><td>[&quot;04.02.2021&quot;]</td><td>[&quot;Реализация товаров и услуг ЦБ-СК-00042743 от 04.02.2021 23:15:59&quot;]</td><td>[&quot;41.02&quot;]</td><td>[&quot;1 037,98&quot;, &quot;1,000&quot;]</td><td>[&quot;41.01&quot;]</td><td>[&quot;1 037,98&quot;, &quot;1,000&quot;]</td></tr><tr><td>83781</td><td>[&quot;Реализация&quot;, &quot;245-02WB-044SW Полусапоги женские и.кожа/и.мех черн, INSTREET&quot;, &quot;Кол-во&quot;]</td><td>[&quot;07.02.2021&quot;]</td><td>[&quot;Отчет комиссионера о продажах СК-00005877 от 07.02.2021 22:04:52&quot;]</td><td>[&quot;90.02.1&quot;]</td><td>[]</td><td>[&quot;41.02&quot;]</td><td>[&quot;922,50&quot;, &quot;1,000&quot;]</td></tr><tr><td>58117</td><td>[&quot;Реализация&quot;, &quot;64-02MV-025GW Ботинки для активного отдыха мужские и.нубук/и.мех корич, Pulse&quot;, &quot;Кол-во&quot;]</td><td>[&quot;06.02.2021&quot;]</td><td>[&quot;Отчет комиссионера о продажах СК-00005637 от 06.02.2021 19:09:29&quot;]</td><td>[&quot;90.02.1&quot;]</td><td>[]</td><td>[&quot;41.02&quot;]</td><td>[&quot;1 208,85&quot;, &quot;1,000&quot;]</td></tr><tr><td>26763</td><td>[&quot;Реализация&quot;, &quot;201-01WN-012FK Полуботинки для активного отдыха женские спилок/кожа-текстиль голуб, ZENDEN ACTIVE&quot;, &quot;Кол-во&quot;]</td><td>[&quot;03.02.2021&quot;]</td><td>[&quot;Отчет комиссионера о продажах СК-00005268 от 03.02.2021 20:48:59&quot;]</td><td>[&quot;90.02.1&quot;]</td><td>[]</td><td>[&quot;41.02&quot;]</td><td>[&quot;896,08&quot;, &quot;1,000&quot;]</td></tr><tr><td>&hellip;</td><td>&hellip;</td><td>&hellip;</td><td>&hellip;</td><td>&hellip;</td><td>&hellip;</td><td>&hellip;</td><td>&hellip;</td></tr><tr><td>15952</td><td>[&quot;Реализация&quot;, &quot;543-92WB-028KN Ботинки для активного отдыха женские кожа/шерсть бел, ZENDEN collection&quot;, &quot;Кол-во&quot;]</td><td>[&quot;02.02.2021&quot;]</td><td>[&quot;Реализация товаров и услуг ЦБ-СК-00042414 от 02.02.2021 20:18:31&quot;]</td><td>[&quot;90.02.1&quot;]</td><td>[]</td><td>[&quot;41.01&quot;]</td><td>[&quot;3 890,77&quot;, &quot;2,000&quot;]</td></tr><tr><td>19105</td><td>[&quot;Реализация&quot;, &quot;64-02MV-009SW Ботинки для активного отдыха мужские и.кожа-текстиль/и.мех синий, Pulse&quot;, &quot;Кол-во&quot;]</td><td>[&quot;02.02.2021&quot;]</td><td>[&quot;Отчет комиссионера о продажах СК-00005100 от 02.02.2021 21:57:49&quot;]</td><td>[&quot;90.02.1&quot;]</td><td>[]</td><td>[&quot;41.02&quot;]</td><td>[&quot;913,58&quot;, &quot;1,000&quot;]</td></tr><tr><td>67480</td><td>[&quot;Реализация&quot;, &quot;80-02WB-072KE Сапоги женские нат.кожа/мех-ворсин черн, Zenden&quot;, &quot;Кол-во&quot;]</td><td>[&quot;06.02.2021&quot;]</td><td>[&quot;Отчет комиссионера о продажах СК-00005659 от 06.02.2021 22:01:22&quot;]</td><td>[&quot;90.02.1&quot;]</td><td>[]</td><td>[&quot;41.02&quot;]</td><td>[&quot;2 774,19&quot;, &quot;1,000&quot;]</td></tr><tr><td>35626</td><td>[&quot;Оприходованы ТМЦ&quot;, &quot;AL-02BWC-001 Сумка женская нат.кожа/текстиль голуб, S, Franchesco Mariscotti&quot;, … &quot;Кол-во&quot;]</td><td>[&quot;04.02.2021&quot;]</td><td>[&quot;Поступление товаров и услуг ЦБ-СК-00002508 от 04.02.2021 15:53:20&quot;]</td><td>[&quot;41.01&quot;]</td><td>[&quot;4 398,75&quot;, &quot;3,000&quot;]</td><td>[&quot;60.01&quot;]</td><td>[]</td></tr><tr><td>20439</td><td>[&quot;Реализация&quot;, &quot;604-407-N2C Ботинки мужские кожа/шерсть корич, quattrocomforto&quot;, &quot;Кол-во&quot;]</td><td>[&quot;02.02.2021&quot;]</td><td>[&quot;Отчет комиссионера о продажах СК-00005164 от 02.02.2021 22:02:06&quot;]</td><td>[&quot;90.02.1&quot;]</td><td>[]</td><td>[&quot;41.02&quot;]</td><td>[&quot;1 967,04&quot;, &quot;1,000&quot;]</td></tr></tbody></table></div>"
      ],
      "text/plain": [
       "shape: (85_469, 8)\n",
       "┌───────────┬────────────┬────────────┬────────────┬───────────┬───────────┬───────────┬───────────┐\n",
       "│ separator ┆ also_opera ┆ data       ┆ operation  ┆ debet_num ┆ debet_rub ┆ credit_nu ┆ credit_ru │\n",
       "│ ---       ┆ tion       ┆ ---        ┆ ---        ┆ ber       ┆ ---       ┆ mber      ┆ b         │\n",
       "│ u32       ┆ ---        ┆ list[str]  ┆ list[str]  ┆ ---       ┆ list[str] ┆ ---       ┆ ---       │\n",
       "│           ┆ list[str]  ┆            ┆            ┆ list[str] ┆           ┆ list[str] ┆ list[str] │\n",
       "╞═══════════╪════════════╪════════════╪════════════╪═══════════╪═══════════╪═══════════╪═══════════╡\n",
       "│ 289       ┆ [\"Перемеще ┆ [\"01.02.20 ┆ [\"Реализац ┆ [\"41.02\"] ┆ [\"12 841, ┆ [\"41.01\"] ┆ [\"12 841, │\n",
       "│           ┆ ние между  ┆ 21\"]       ┆ ия товаров ┆           ┆ 07\",      ┆           ┆ 07\",      │\n",
       "│           ┆ складами\", ┆            ┆ и услуг Ц… ┆           ┆ \"8,000\"]  ┆           ┆ \"8,000\"]  │\n",
       "│           ┆ …          ┆            ┆            ┆           ┆           ┆           ┆           │\n",
       "│ 45243     ┆ [\"Перемеще ┆ [\"04.02.20 ┆ [\"Реализац ┆ [\"41.02\"] ┆ [\"1 037,9 ┆ [\"41.01\"] ┆ [\"1 037,9 │\n",
       "│           ┆ ние между  ┆ 21\"]       ┆ ия товаров ┆           ┆ 8\",       ┆           ┆ 8\",       │\n",
       "│           ┆ складами\", ┆            ┆ и услуг Ц… ┆           ┆ \"1,000\"]  ┆           ┆ \"1,000\"]  │\n",
       "│           ┆ …          ┆            ┆            ┆           ┆           ┆           ┆           │\n",
       "│ 83781     ┆ [\"Реализац ┆ [\"07.02.20 ┆ [\"Отчет    ┆ [\"90.02.1 ┆ []        ┆ [\"41.02\"] ┆ [\"922,50\" │\n",
       "│           ┆ ия\", \"245- ┆ 21\"]       ┆ комиссионе ┆ \"]        ┆           ┆           ┆ ,         │\n",
       "│           ┆ 02WB-044SW ┆            ┆ ра о       ┆           ┆           ┆           ┆ \"1,000\"]  │\n",
       "│           ┆ …          ┆            ┆ продажа…   ┆           ┆           ┆           ┆           │\n",
       "│ 58117     ┆ [\"Реализац ┆ [\"06.02.20 ┆ [\"Отчет    ┆ [\"90.02.1 ┆ []        ┆ [\"41.02\"] ┆ [\"1 208,8 │\n",
       "│           ┆ ия\", \"64-0 ┆ 21\"]       ┆ комиссионе ┆ \"]        ┆           ┆           ┆ 5\",       │\n",
       "│           ┆ 2MV-025GW  ┆            ┆ ра о       ┆           ┆           ┆           ┆ \"1,000\"]  │\n",
       "│           ┆ …          ┆            ┆ продажа…   ┆           ┆           ┆           ┆           │\n",
       "│ 26763     ┆ [\"Реализац ┆ [\"03.02.20 ┆ [\"Отчет    ┆ [\"90.02.1 ┆ []        ┆ [\"41.02\"] ┆ [\"896,08\" │\n",
       "│           ┆ ия\", \"201- ┆ 21\"]       ┆ комиссионе ┆ \"]        ┆           ┆           ┆ ,         │\n",
       "│           ┆ 01WN-012FK ┆            ┆ ра о       ┆           ┆           ┆           ┆ \"1,000\"]  │\n",
       "│           ┆ …          ┆            ┆ продажа…   ┆           ┆           ┆           ┆           │\n",
       "│ …         ┆ …          ┆ …          ┆ …          ┆ …         ┆ …         ┆ …         ┆ …         │\n",
       "│ 15952     ┆ [\"Реализац ┆ [\"02.02.20 ┆ [\"Реализац ┆ [\"90.02.1 ┆ []        ┆ [\"41.01\"] ┆ [\"3 890,7 │\n",
       "│           ┆ ия\", \"543- ┆ 21\"]       ┆ ия товаров ┆ \"]        ┆           ┆           ┆ 7\",       │\n",
       "│           ┆ 92WB-028KN ┆            ┆ и услуг Ц… ┆           ┆           ┆           ┆ \"2,000\"]  │\n",
       "│           ┆ …          ┆            ┆            ┆           ┆           ┆           ┆           │\n",
       "│ 19105     ┆ [\"Реализац ┆ [\"02.02.20 ┆ [\"Отчет    ┆ [\"90.02.1 ┆ []        ┆ [\"41.02\"] ┆ [\"913,58\" │\n",
       "│           ┆ ия\", \"64-0 ┆ 21\"]       ┆ комиссионе ┆ \"]        ┆           ┆           ┆ ,         │\n",
       "│           ┆ 2MV-009SW  ┆            ┆ ра о       ┆           ┆           ┆           ┆ \"1,000\"]  │\n",
       "│           ┆ …          ┆            ┆ продажа…   ┆           ┆           ┆           ┆           │\n",
       "│ 67480     ┆ [\"Реализац ┆ [\"06.02.20 ┆ [\"Отчет    ┆ [\"90.02.1 ┆ []        ┆ [\"41.02\"] ┆ [\"2 774,1 │\n",
       "│           ┆ ия\", \"80-0 ┆ 21\"]       ┆ комиссионе ┆ \"]        ┆           ┆           ┆ 9\",       │\n",
       "│           ┆ 2WB-072KE  ┆            ┆ ра о       ┆           ┆           ┆           ┆ \"1,000\"]  │\n",
       "│           ┆ …          ┆            ┆ продажа…   ┆           ┆           ┆           ┆           │\n",
       "│ 35626     ┆ [\"Оприходо ┆ [\"04.02.20 ┆ [\"Поступле ┆ [\"41.01\"] ┆ [\"4 398,7 ┆ [\"60.01\"] ┆ []        │\n",
       "│           ┆ ваны ТМЦ\", ┆ 21\"]       ┆ ние        ┆           ┆ 5\",       ┆           ┆           │\n",
       "│           ┆ \"AL-02BWC… ┆            ┆ товаров и  ┆           ┆ \"3,000\"]  ┆           ┆           │\n",
       "│           ┆            ┆            ┆ услуг …    ┆           ┆           ┆           ┆           │\n",
       "│ 20439     ┆ [\"Реализац ┆ [\"02.02.20 ┆ [\"Отчет    ┆ [\"90.02.1 ┆ []        ┆ [\"41.02\"] ┆ [\"1 967,0 │\n",
       "│           ┆ ия\", \"604- ┆ 21\"]       ┆ комиссионе ┆ \"]        ┆           ┆           ┆ 4\",       │\n",
       "│           ┆ 407-N2C    ┆            ┆ ра о       ┆           ┆           ┆           ┆ \"1,000\"]  │\n",
       "│           ┆ Бо…        ┆            ┆ продажа…   ┆           ┆           ┆           ┆           │\n",
       "└───────────┴────────────┴────────────┴────────────┴───────────┴───────────┴───────────┴───────────┘"
      ]
     },
     "execution_count": 11,
     "metadata": {},
     "output_type": "execute_result"
    }
   ],
   "source": [
    "new_df = new_df.with_columns(\n",
    "    pl.when(pl.col(\"also_operation\").list[1].str.starts_with(\"Прочие внереализационные\"))\n",
    "    .then(pl.col(\"also_operation\").list.slice(1))\n",
    "    .otherwise(pl.col(\"also_operation\"))\n",
    ").with_columns(\n",
    "    pl.when(pl.col(\"also_operation\").list[1].str.starts_with(\"Прочие расходы\"))\n",
    "    .then(pl.col(\"also_operation\").list.slice(2))\n",
    "    .otherwise(pl.col(\"also_operation\")),\n",
    "    # pl.col('also_operation').list.get(1).str.starts_with(\"Прочие\") pl.col('also_operation').list.shift(1)\n",
    ")\n",
    "new_df"
   ]
  },
  {
   "cell_type": "code",
   "execution_count": 12,
   "metadata": {},
   "outputs": [
    {
     "data": {
      "text/html": [
       "<div><style>\n",
       ".dataframe > thead > tr,\n",
       ".dataframe > tbody > tr {\n",
       "  text-align: right;\n",
       "  white-space: pre-wrap;\n",
       "}\n",
       "</style>\n",
       "<small>shape: (1, 8)</small><table border=\"1\" class=\"dataframe\"><thead><tr><th>separator</th><th>also_operation</th><th>data</th><th>operation</th><th>debet_number</th><th>debet_rub</th><th>credit_number</th><th>credit_rub</th></tr><tr><td>u32</td><td>list[str]</td><td>list[str]</td><td>list[str]</td><td>list[str]</td><td>list[str]</td><td>list[str]</td><td>list[str]</td></tr></thead><tbody><tr><td>121</td><td>[&quot;г. Новокузнецк (Планета) Обособленное подразделениене не использовать с 03.06.2024&quot;, &quot;In82-90/067 Шнурки для обуви синий, INSTREET&quot;, &quot;Кол-во&quot;]</td><td>[&quot;01.02.2021&quot;]</td><td>[&quot;Требование-накладная СК-00000088 от 01.02.2021 9:54:44&quot;]</td><td>[&quot;44.01.1&quot;]</td><td>[]</td><td>[&quot;41.01&quot;]</td><td>[&quot;16,24&quot;, &quot;1,000&quot;]</td></tr></tbody></table></div>"
      ],
      "text/plain": [
       "shape: (1, 8)\n",
       "┌───────────┬────────────┬────────────┬────────────┬───────────┬───────────┬───────────┬───────────┐\n",
       "│ separator ┆ also_opera ┆ data       ┆ operation  ┆ debet_num ┆ debet_rub ┆ credit_nu ┆ credit_ru │\n",
       "│ ---       ┆ tion       ┆ ---        ┆ ---        ┆ ber       ┆ ---       ┆ mber      ┆ b         │\n",
       "│ u32       ┆ ---        ┆ list[str]  ┆ list[str]  ┆ ---       ┆ list[str] ┆ ---       ┆ ---       │\n",
       "│           ┆ list[str]  ┆            ┆            ┆ list[str] ┆           ┆ list[str] ┆ list[str] │\n",
       "╞═══════════╪════════════╪════════════╪════════════╪═══════════╪═══════════╪═══════════╪═══════════╡\n",
       "│ 121       ┆ [\"г. Новок ┆ [\"01.02.20 ┆ [\"Требован ┆ [\"44.01.1 ┆ []        ┆ [\"41.01\"] ┆ [\"16,24\", │\n",
       "│           ┆ узнецк     ┆ 21\"]       ┆ ие-накладн ┆ \"]        ┆           ┆           ┆ \"1,000\"]  │\n",
       "│           ┆ (Планета)  ┆            ┆ ая         ┆           ┆           ┆           ┆           │\n",
       "│           ┆ Обо…       ┆            ┆ СК-0000…   ┆           ┆           ┆           ┆           │\n",
       "└───────────┴────────────┴────────────┴────────────┴───────────┴───────────┴───────────┴───────────┘"
      ]
     },
     "execution_count": 12,
     "metadata": {},
     "output_type": "execute_result"
    }
   ],
   "source": [
    "new_df.filter(\n",
    "    pl.any_horizontal(pl.col(['also_operation']).list.contains('г. Новокузнецк (Планета) Обособленное подразделениене не использовать с 03.06.2024'))\n",
    ")"
   ]
  },
  {
   "cell_type": "code",
   "execution_count": 13,
   "metadata": {},
   "outputs": [
    {
     "data": {
      "text/html": [
       "<div><style>\n",
       ".dataframe > thead > tr,\n",
       ".dataframe > tbody > tr {\n",
       "  text-align: right;\n",
       "  white-space: pre-wrap;\n",
       "}\n",
       "</style>\n",
       "<small>shape: (85_469, 10)</small><table border=\"1\" class=\"dataframe\"><thead><tr><th>separator</th><th>data</th><th>operation</th><th>debet_number</th><th>debet_rub</th><th>credit_number</th><th>credit_rub</th><th>operation_name</th><th>product_name</th><th>trash</th></tr><tr><td>u32</td><td>list[str]</td><td>list[str]</td><td>list[str]</td><td>list[str]</td><td>list[str]</td><td>list[str]</td><td>str</td><td>str</td><td>str</td></tr></thead><tbody><tr><td>1</td><td>[&quot;01.02.2021&quot;]</td><td>[&quot;Возврат товаров от покупателя СК-00030388 от 01.02.2021 0:00:00&quot;]</td><td>[&quot;41.01&quot;]</td><td>[&quot;494,07&quot;, &quot;8,000&quot;]</td><td>[&quot;41.02&quot;]</td><td>[&quot;494,07&quot;, &quot;8,000&quot;]</td><td>&quot;Возврат из розницы&quot;</td><td>&quot;YU-91-10868-001 Мешок для обув…</td><td>&quot;Кол-во&quot;</td></tr><tr><td>2</td><td>[&quot;01.02.2021&quot;]</td><td>[&quot;Поступление товаров и услуг ЦБ-СК-00001840 от 01.02.2021 9:13:03&quot;]</td><td>[&quot;41.01&quot;]</td><td>[&quot;6 162,00&quot;, &quot;8,000&quot;]</td><td>[&quot;60.01&quot;]</td><td>[]</td><td>&quot;Оприходованы ТМЦ&quot;</td><td>&quot;98-02BO-068GK Туфли мальчиковы…</td><td>&quot;Дом Одежды Основной договор/ д…</td></tr><tr><td>3</td><td>[&quot;01.02.2021&quot;]</td><td>[&quot;Поступление товаров и услуг ЦБ-СК-00001840 от 01.02.2021 9:13:03&quot;]</td><td>[&quot;41.01&quot;]</td><td>[&quot;6 299,60&quot;, &quot;8,000&quot;]</td><td>[&quot;60.01&quot;]</td><td>[]</td><td>&quot;Оприходованы ТМЦ&quot;</td><td>&quot;98-02BO-066SK Туфли мальчиковы…</td><td>&quot;Дом Одежды Основной договор/ д…</td></tr><tr><td>4</td><td>[&quot;01.02.2021&quot;]</td><td>[&quot;Поступление товаров и услуг ЦБ-СК-00001840 от 01.02.2021 9:13:03&quot;]</td><td>[&quot;41.01&quot;]</td><td>[&quot;6 458,47&quot;, &quot;8,000&quot;]</td><td>[&quot;60.01&quot;]</td><td>[]</td><td>&quot;Оприходованы ТМЦ&quot;</td><td>&quot;98-02BO-067SK Полуботинки маль…</td><td>&quot;Дом Одежды Основной договор/ д…</td></tr><tr><td>5</td><td>[&quot;01.02.2021&quot;]</td><td>[&quot;Поступление товаров и услуг ЦБ-СК-00001840 от 01.02.2021 9:13:03&quot;]</td><td>[&quot;41.01&quot;]</td><td>[&quot;5 616,29&quot;, &quot;8,000&quot;]</td><td>[&quot;60.01&quot;]</td><td>[]</td><td>&quot;Оприходованы ТМЦ&quot;</td><td>&quot;12-02BO-017FT Полуботинки для …</td><td>&quot;Дом Одежды Основной договор/ д…</td></tr><tr><td>&hellip;</td><td>&hellip;</td><td>&hellip;</td><td>&hellip;</td><td>&hellip;</td><td>&hellip;</td><td>&hellip;</td><td>&hellip;</td><td>&hellip;</td><td>&hellip;</td></tr><tr><td>85465</td><td>[&quot;07.02.2021&quot;]</td><td>[&quot;Сторно отчета комиссионера о продажах СК-00006407 от 07.02.2021 23:59:59&quot;]</td><td>[&quot;90.02.1&quot;]</td><td>[]</td><td>[&quot;41.02&quot;]</td><td>[&quot;-1 242,01&quot;, &quot;-1,000&quot;]</td><td>&quot;Сторно реализации розницы&quot;</td><td>&quot;76-02WA-007FW Ботинки женские …</td><td>&quot;Кол-во&quot;</td></tr><tr><td>85466</td><td>[&quot;07.02.2021&quot;]</td><td>[&quot;Сторно отчета комиссионера о продажах СК-00006493 от 07.02.2021 23:59:59&quot;]</td><td>[&quot;90.02.1&quot;]</td><td>[]</td><td>[&quot;41.02&quot;]</td><td>[&quot;-1 681,49&quot;, &quot;-1,000&quot;]</td><td>&quot;Сторно реализации розницы&quot;</td><td>&quot;110-02MV-115KW Ботинки для акт…</td><td>&quot;Кол-во&quot;</td></tr><tr><td>85467</td><td>[&quot;07.02.2021&quot;]</td><td>[&quot;Сторно отчета комиссионера о продажах СК-00006322 от 07.02.2021 23:59:59&quot;]</td><td>[&quot;90.02.1&quot;]</td><td>[]</td><td>[&quot;41.02&quot;]</td><td>[&quot;-1 219,69&quot;, &quot;-1,000&quot;]</td><td>&quot;Сторно реализации розницы&quot;</td><td>&quot;25-02WB-023DR Ботинки женские …</td><td>&quot;Кол-во&quot;</td></tr><tr><td>85468</td><td>[&quot;07.02.2021&quot;]</td><td>[&quot;Сторно отчета комиссионера о продажах СК-00006438 от 07.02.2021 23:59:59&quot;]</td><td>[&quot;90.02.1&quot;]</td><td>[]</td><td>[&quot;41.02&quot;]</td><td>[&quot;-993,72&quot;, &quot;-1,000&quot;]</td><td>&quot;Сторно реализации розницы&quot;</td><td>&quot;77-02WA-015SW Ботинки женские …</td><td>&quot;Кол-во&quot;</td></tr><tr><td>85469</td><td>[&quot;07.02.2021&quot;]</td><td>[&quot;Сторно отчета комиссионера о продажах СК-00006364 от 07.02.2021 23:59:59&quot;]</td><td>[&quot;90.02.1&quot;]</td><td>[]</td><td>[&quot;41.02&quot;]</td><td>[&quot;-612,66&quot;, &quot;-1,000&quot;]</td><td>&quot;Сторно реализации розницы&quot;</td><td>&quot;203-32WN-113TW Ботинки женские…</td><td>&quot;Кол-во&quot;</td></tr></tbody></table></div>"
      ],
      "text/plain": [
       "shape: (85_469, 10)\n",
       "┌───────────┬───────────┬───────────┬───────────┬───┬───────────┬───────────┬───────────┬──────────┐\n",
       "│ separator ┆ data      ┆ operation ┆ debet_num ┆ … ┆ credit_ru ┆ operation ┆ product_n ┆ trash    │\n",
       "│ ---       ┆ ---       ┆ ---       ┆ ber       ┆   ┆ b         ┆ _name     ┆ ame       ┆ ---      │\n",
       "│ u32       ┆ list[str] ┆ list[str] ┆ ---       ┆   ┆ ---       ┆ ---       ┆ ---       ┆ str      │\n",
       "│           ┆           ┆           ┆ list[str] ┆   ┆ list[str] ┆ str       ┆ str       ┆          │\n",
       "╞═══════════╪═══════════╪═══════════╪═══════════╪═══╪═══════════╪═══════════╪═══════════╪══════════╡\n",
       "│ 1         ┆ [\"01.02.2 ┆ [\"Возврат ┆ [\"41.01\"] ┆ … ┆ [\"494,07\" ┆ Возврат   ┆ YU-91-108 ┆ Кол-во   │\n",
       "│           ┆ 021\"]     ┆ товаров   ┆           ┆   ┆ ,         ┆ из        ┆ 68-001    ┆          │\n",
       "│           ┆           ┆ от покупа ┆           ┆   ┆ \"8,000\"]  ┆ розницы   ┆ Мешок для ┆          │\n",
       "│           ┆           ┆ тел…      ┆           ┆   ┆           ┆           ┆ обув…     ┆          │\n",
       "│ 2         ┆ [\"01.02.2 ┆ [\"Поступл ┆ [\"41.01\"] ┆ … ┆ []        ┆ Оприходов ┆ 98-02BO-0 ┆ Дом      │\n",
       "│           ┆ 021\"]     ┆ ение      ┆           ┆   ┆           ┆ аны ТМЦ   ┆ 68GK      ┆ Одежды   │\n",
       "│           ┆           ┆ товаров и ┆           ┆   ┆           ┆           ┆ Туфли мал ┆ Основной │\n",
       "│           ┆           ┆ услуг …   ┆           ┆   ┆           ┆           ┆ ьчиковы…  ┆ договор/ │\n",
       "│           ┆           ┆           ┆           ┆   ┆           ┆           ┆           ┆ д…       │\n",
       "│ 3         ┆ [\"01.02.2 ┆ [\"Поступл ┆ [\"41.01\"] ┆ … ┆ []        ┆ Оприходов ┆ 98-02BO-0 ┆ Дом      │\n",
       "│           ┆ 021\"]     ┆ ение      ┆           ┆   ┆           ┆ аны ТМЦ   ┆ 66SK      ┆ Одежды   │\n",
       "│           ┆           ┆ товаров и ┆           ┆   ┆           ┆           ┆ Туфли мал ┆ Основной │\n",
       "│           ┆           ┆ услуг …   ┆           ┆   ┆           ┆           ┆ ьчиковы…  ┆ договор/ │\n",
       "│           ┆           ┆           ┆           ┆   ┆           ┆           ┆           ┆ д…       │\n",
       "│ 4         ┆ [\"01.02.2 ┆ [\"Поступл ┆ [\"41.01\"] ┆ … ┆ []        ┆ Оприходов ┆ 98-02BO-0 ┆ Дом      │\n",
       "│           ┆ 021\"]     ┆ ение      ┆           ┆   ┆           ┆ аны ТМЦ   ┆ 67SK Полу ┆ Одежды   │\n",
       "│           ┆           ┆ товаров и ┆           ┆   ┆           ┆           ┆ ботинки   ┆ Основной │\n",
       "│           ┆           ┆ услуг …   ┆           ┆   ┆           ┆           ┆ маль…     ┆ договор/ │\n",
       "│           ┆           ┆           ┆           ┆   ┆           ┆           ┆           ┆ д…       │\n",
       "│ 5         ┆ [\"01.02.2 ┆ [\"Поступл ┆ [\"41.01\"] ┆ … ┆ []        ┆ Оприходов ┆ 12-02BO-0 ┆ Дом      │\n",
       "│           ┆ 021\"]     ┆ ение      ┆           ┆   ┆           ┆ аны ТМЦ   ┆ 17FT Полу ┆ Одежды   │\n",
       "│           ┆           ┆ товаров и ┆           ┆   ┆           ┆           ┆ ботинки   ┆ Основной │\n",
       "│           ┆           ┆ услуг …   ┆           ┆   ┆           ┆           ┆ для …     ┆ договор/ │\n",
       "│           ┆           ┆           ┆           ┆   ┆           ┆           ┆           ┆ д…       │\n",
       "│ …         ┆ …         ┆ …         ┆ …         ┆ … ┆ …         ┆ …         ┆ …         ┆ …        │\n",
       "│ 85465     ┆ [\"07.02.2 ┆ [\"Сторно  ┆ [\"90.02.1 ┆ … ┆ [\"-1 242, ┆ Сторно    ┆ 76-02WA-0 ┆ Кол-во   │\n",
       "│           ┆ 021\"]     ┆ отчета    ┆ \"]        ┆   ┆ 01\",      ┆ реализаци ┆ 07FW      ┆          │\n",
       "│           ┆           ┆ комиссион ┆           ┆   ┆ \"-1,000\"] ┆ и розницы ┆ Ботинки   ┆          │\n",
       "│           ┆           ┆ ера о…    ┆           ┆   ┆           ┆           ┆ женские … ┆          │\n",
       "│ 85466     ┆ [\"07.02.2 ┆ [\"Сторно  ┆ [\"90.02.1 ┆ … ┆ [\"-1 681, ┆ Сторно    ┆ 110-02MV- ┆ Кол-во   │\n",
       "│           ┆ 021\"]     ┆ отчета    ┆ \"]        ┆   ┆ 49\",      ┆ реализаци ┆ 115KW     ┆          │\n",
       "│           ┆           ┆ комиссион ┆           ┆   ┆ \"-1,000\"] ┆ и розницы ┆ Ботинки   ┆          │\n",
       "│           ┆           ┆ ера о…    ┆           ┆   ┆           ┆           ┆ для акт…  ┆          │\n",
       "│ 85467     ┆ [\"07.02.2 ┆ [\"Сторно  ┆ [\"90.02.1 ┆ … ┆ [\"-1 219, ┆ Сторно    ┆ 25-02WB-0 ┆ Кол-во   │\n",
       "│           ┆ 021\"]     ┆ отчета    ┆ \"]        ┆   ┆ 69\",      ┆ реализаци ┆ 23DR      ┆          │\n",
       "│           ┆           ┆ комиссион ┆           ┆   ┆ \"-1,000\"] ┆ и розницы ┆ Ботинки   ┆          │\n",
       "│           ┆           ┆ ера о…    ┆           ┆   ┆           ┆           ┆ женские … ┆          │\n",
       "│ 85468     ┆ [\"07.02.2 ┆ [\"Сторно  ┆ [\"90.02.1 ┆ … ┆ [\"-993,72 ┆ Сторно    ┆ 77-02WA-0 ┆ Кол-во   │\n",
       "│           ┆ 021\"]     ┆ отчета    ┆ \"]        ┆   ┆ \",        ┆ реализаци ┆ 15SW      ┆          │\n",
       "│           ┆           ┆ комиссион ┆           ┆   ┆ \"-1,000\"] ┆ и розницы ┆ Ботинки   ┆          │\n",
       "│           ┆           ┆ ера о…    ┆           ┆   ┆           ┆           ┆ женские … ┆          │\n",
       "│ 85469     ┆ [\"07.02.2 ┆ [\"Сторно  ┆ [\"90.02.1 ┆ … ┆ [\"-612,66 ┆ Сторно    ┆ 203-32WN- ┆ Кол-во   │\n",
       "│           ┆ 021\"]     ┆ отчета    ┆ \"]        ┆   ┆ \",        ┆ реализаци ┆ 113TW     ┆          │\n",
       "│           ┆           ┆ комиссион ┆           ┆   ┆ \"-1,000\"] ┆ и розницы ┆ Ботинки   ┆          │\n",
       "│           ┆           ┆ ера о…    ┆           ┆   ┆           ┆           ┆ женские…  ┆          │\n",
       "└───────────┴───────────┴───────────┴───────────┴───┴───────────┴───────────┴───────────┴──────────┘"
      ]
     },
     "execution_count": 13,
     "metadata": {},
     "output_type": "execute_result"
    }
   ],
   "source": [
    "new_df = new_df.with_columns(\n",
    "    pl.col('also_operation').list.get(0).alias('operation_name'),\n",
    "    pl.col('also_operation').list.get(1).alias('product_name'),\n",
    "    pl.col('also_operation').list.slice(2).list.join(' ').alias('trash')\n",
    "\n",
    ").drop('also_operation').sort('separator')\n",
    "new_df"
   ]
  },
  {
   "cell_type": "code",
   "execution_count": 14,
   "metadata": {},
   "outputs": [
    {
     "data": {
      "text/html": [
       "<div><style>\n",
       ".dataframe > thead > tr,\n",
       ".dataframe > tbody > tr {\n",
       "  text-align: right;\n",
       "  white-space: pre-wrap;\n",
       "}\n",
       "</style>\n",
       "<small>shape: (85_469, 10)</small><table border=\"1\" class=\"dataframe\"><thead><tr><th>separator</th><th>data</th><th>operation</th><th>debet_number</th><th>debet_rub</th><th>credit_number</th><th>credit_rub</th><th>operation_name</th><th>product_name</th><th>trash</th></tr><tr><td>u32</td><td>str</td><td>str</td><td>str</td><td>list[str]</td><td>str</td><td>list[str]</td><td>str</td><td>str</td><td>str</td></tr></thead><tbody><tr><td>1</td><td>&quot;01.02.2021&quot;</td><td>&quot;Возврат товаров от покупателя …</td><td>&quot;41.01&quot;</td><td>[&quot;494,07&quot;, &quot;8,000&quot;]</td><td>&quot;41.02&quot;</td><td>[&quot;494,07&quot;, &quot;8,000&quot;]</td><td>&quot;Возврат из розницы&quot;</td><td>&quot;YU-91-10868-001 Мешок для обув…</td><td>&quot;Кол-во&quot;</td></tr><tr><td>2</td><td>&quot;01.02.2021&quot;</td><td>&quot;Поступление товаров и услуг ЦБ…</td><td>&quot;41.01&quot;</td><td>[&quot;6 162,00&quot;, &quot;8,000&quot;]</td><td>&quot;60.01&quot;</td><td>[]</td><td>&quot;Оприходованы ТМЦ&quot;</td><td>&quot;98-02BO-068GK Туфли мальчиковы…</td><td>&quot;Дом Одежды Основной договор/ д…</td></tr><tr><td>3</td><td>&quot;01.02.2021&quot;</td><td>&quot;Поступление товаров и услуг ЦБ…</td><td>&quot;41.01&quot;</td><td>[&quot;6 299,60&quot;, &quot;8,000&quot;]</td><td>&quot;60.01&quot;</td><td>[]</td><td>&quot;Оприходованы ТМЦ&quot;</td><td>&quot;98-02BO-066SK Туфли мальчиковы…</td><td>&quot;Дом Одежды Основной договор/ д…</td></tr><tr><td>4</td><td>&quot;01.02.2021&quot;</td><td>&quot;Поступление товаров и услуг ЦБ…</td><td>&quot;41.01&quot;</td><td>[&quot;6 458,47&quot;, &quot;8,000&quot;]</td><td>&quot;60.01&quot;</td><td>[]</td><td>&quot;Оприходованы ТМЦ&quot;</td><td>&quot;98-02BO-067SK Полуботинки маль…</td><td>&quot;Дом Одежды Основной договор/ д…</td></tr><tr><td>5</td><td>&quot;01.02.2021&quot;</td><td>&quot;Поступление товаров и услуг ЦБ…</td><td>&quot;41.01&quot;</td><td>[&quot;5 616,29&quot;, &quot;8,000&quot;]</td><td>&quot;60.01&quot;</td><td>[]</td><td>&quot;Оприходованы ТМЦ&quot;</td><td>&quot;12-02BO-017FT Полуботинки для …</td><td>&quot;Дом Одежды Основной договор/ д…</td></tr><tr><td>&hellip;</td><td>&hellip;</td><td>&hellip;</td><td>&hellip;</td><td>&hellip;</td><td>&hellip;</td><td>&hellip;</td><td>&hellip;</td><td>&hellip;</td><td>&hellip;</td></tr><tr><td>85465</td><td>&quot;07.02.2021&quot;</td><td>&quot;Сторно отчета комиссионера о п…</td><td>&quot;90.02.1&quot;</td><td>[]</td><td>&quot;41.02&quot;</td><td>[&quot;-1 242,01&quot;, &quot;-1,000&quot;]</td><td>&quot;Сторно реализации розницы&quot;</td><td>&quot;76-02WA-007FW Ботинки женские …</td><td>&quot;Кол-во&quot;</td></tr><tr><td>85466</td><td>&quot;07.02.2021&quot;</td><td>&quot;Сторно отчета комиссионера о п…</td><td>&quot;90.02.1&quot;</td><td>[]</td><td>&quot;41.02&quot;</td><td>[&quot;-1 681,49&quot;, &quot;-1,000&quot;]</td><td>&quot;Сторно реализации розницы&quot;</td><td>&quot;110-02MV-115KW Ботинки для акт…</td><td>&quot;Кол-во&quot;</td></tr><tr><td>85467</td><td>&quot;07.02.2021&quot;</td><td>&quot;Сторно отчета комиссионера о п…</td><td>&quot;90.02.1&quot;</td><td>[]</td><td>&quot;41.02&quot;</td><td>[&quot;-1 219,69&quot;, &quot;-1,000&quot;]</td><td>&quot;Сторно реализации розницы&quot;</td><td>&quot;25-02WB-023DR Ботинки женские …</td><td>&quot;Кол-во&quot;</td></tr><tr><td>85468</td><td>&quot;07.02.2021&quot;</td><td>&quot;Сторно отчета комиссионера о п…</td><td>&quot;90.02.1&quot;</td><td>[]</td><td>&quot;41.02&quot;</td><td>[&quot;-993,72&quot;, &quot;-1,000&quot;]</td><td>&quot;Сторно реализации розницы&quot;</td><td>&quot;77-02WA-015SW Ботинки женские …</td><td>&quot;Кол-во&quot;</td></tr><tr><td>85469</td><td>&quot;07.02.2021&quot;</td><td>&quot;Сторно отчета комиссионера о п…</td><td>&quot;90.02.1&quot;</td><td>[]</td><td>&quot;41.02&quot;</td><td>[&quot;-612,66&quot;, &quot;-1,000&quot;]</td><td>&quot;Сторно реализации розницы&quot;</td><td>&quot;203-32WN-113TW Ботинки женские…</td><td>&quot;Кол-во&quot;</td></tr></tbody></table></div>"
      ],
      "text/plain": [
       "shape: (85_469, 10)\n",
       "┌───────────┬───────────┬───────────┬───────────┬───┬───────────┬───────────┬───────────┬──────────┐\n",
       "│ separator ┆ data      ┆ operation ┆ debet_num ┆ … ┆ credit_ru ┆ operation ┆ product_n ┆ trash    │\n",
       "│ ---       ┆ ---       ┆ ---       ┆ ber       ┆   ┆ b         ┆ _name     ┆ ame       ┆ ---      │\n",
       "│ u32       ┆ str       ┆ str       ┆ ---       ┆   ┆ ---       ┆ ---       ┆ ---       ┆ str      │\n",
       "│           ┆           ┆           ┆ str       ┆   ┆ list[str] ┆ str       ┆ str       ┆          │\n",
       "╞═══════════╪═══════════╪═══════════╪═══════════╪═══╪═══════════╪═══════════╪═══════════╪══════════╡\n",
       "│ 1         ┆ 01.02.202 ┆ Возврат   ┆ 41.01     ┆ … ┆ [\"494,07\" ┆ Возврат   ┆ YU-91-108 ┆ Кол-во   │\n",
       "│           ┆ 1         ┆ товаров   ┆           ┆   ┆ ,         ┆ из        ┆ 68-001    ┆          │\n",
       "│           ┆           ┆ от покупа ┆           ┆   ┆ \"8,000\"]  ┆ розницы   ┆ Мешок для ┆          │\n",
       "│           ┆           ┆ теля …    ┆           ┆   ┆           ┆           ┆ обув…     ┆          │\n",
       "│ 2         ┆ 01.02.202 ┆ Поступлен ┆ 41.01     ┆ … ┆ []        ┆ Оприходов ┆ 98-02BO-0 ┆ Дом      │\n",
       "│           ┆ 1         ┆ ие        ┆           ┆   ┆           ┆ аны ТМЦ   ┆ 68GK      ┆ Одежды   │\n",
       "│           ┆           ┆ товаров и ┆           ┆   ┆           ┆           ┆ Туфли мал ┆ Основной │\n",
       "│           ┆           ┆ услуг ЦБ… ┆           ┆   ┆           ┆           ┆ ьчиковы…  ┆ договор/ │\n",
       "│           ┆           ┆           ┆           ┆   ┆           ┆           ┆           ┆ д…       │\n",
       "│ 3         ┆ 01.02.202 ┆ Поступлен ┆ 41.01     ┆ … ┆ []        ┆ Оприходов ┆ 98-02BO-0 ┆ Дом      │\n",
       "│           ┆ 1         ┆ ие        ┆           ┆   ┆           ┆ аны ТМЦ   ┆ 66SK      ┆ Одежды   │\n",
       "│           ┆           ┆ товаров и ┆           ┆   ┆           ┆           ┆ Туфли мал ┆ Основной │\n",
       "│           ┆           ┆ услуг ЦБ… ┆           ┆   ┆           ┆           ┆ ьчиковы…  ┆ договор/ │\n",
       "│           ┆           ┆           ┆           ┆   ┆           ┆           ┆           ┆ д…       │\n",
       "│ 4         ┆ 01.02.202 ┆ Поступлен ┆ 41.01     ┆ … ┆ []        ┆ Оприходов ┆ 98-02BO-0 ┆ Дом      │\n",
       "│           ┆ 1         ┆ ие        ┆           ┆   ┆           ┆ аны ТМЦ   ┆ 67SK Полу ┆ Одежды   │\n",
       "│           ┆           ┆ товаров и ┆           ┆   ┆           ┆           ┆ ботинки   ┆ Основной │\n",
       "│           ┆           ┆ услуг ЦБ… ┆           ┆   ┆           ┆           ┆ маль…     ┆ договор/ │\n",
       "│           ┆           ┆           ┆           ┆   ┆           ┆           ┆           ┆ д…       │\n",
       "│ 5         ┆ 01.02.202 ┆ Поступлен ┆ 41.01     ┆ … ┆ []        ┆ Оприходов ┆ 12-02BO-0 ┆ Дом      │\n",
       "│           ┆ 1         ┆ ие        ┆           ┆   ┆           ┆ аны ТМЦ   ┆ 17FT Полу ┆ Одежды   │\n",
       "│           ┆           ┆ товаров и ┆           ┆   ┆           ┆           ┆ ботинки   ┆ Основной │\n",
       "│           ┆           ┆ услуг ЦБ… ┆           ┆   ┆           ┆           ┆ для …     ┆ договор/ │\n",
       "│           ┆           ┆           ┆           ┆   ┆           ┆           ┆           ┆ д…       │\n",
       "│ …         ┆ …         ┆ …         ┆ …         ┆ … ┆ …         ┆ …         ┆ …         ┆ …        │\n",
       "│ 85465     ┆ 07.02.202 ┆ Сторно    ┆ 90.02.1   ┆ … ┆ [\"-1 242, ┆ Сторно    ┆ 76-02WA-0 ┆ Кол-во   │\n",
       "│           ┆ 1         ┆ отчета    ┆           ┆   ┆ 01\",      ┆ реализаци ┆ 07FW      ┆          │\n",
       "│           ┆           ┆ комиссион ┆           ┆   ┆ \"-1,000\"] ┆ и розницы ┆ Ботинки   ┆          │\n",
       "│           ┆           ┆ ера о п…  ┆           ┆   ┆           ┆           ┆ женские … ┆          │\n",
       "│ 85466     ┆ 07.02.202 ┆ Сторно    ┆ 90.02.1   ┆ … ┆ [\"-1 681, ┆ Сторно    ┆ 110-02MV- ┆ Кол-во   │\n",
       "│           ┆ 1         ┆ отчета    ┆           ┆   ┆ 49\",      ┆ реализаци ┆ 115KW     ┆          │\n",
       "│           ┆           ┆ комиссион ┆           ┆   ┆ \"-1,000\"] ┆ и розницы ┆ Ботинки   ┆          │\n",
       "│           ┆           ┆ ера о п…  ┆           ┆   ┆           ┆           ┆ для акт…  ┆          │\n",
       "│ 85467     ┆ 07.02.202 ┆ Сторно    ┆ 90.02.1   ┆ … ┆ [\"-1 219, ┆ Сторно    ┆ 25-02WB-0 ┆ Кол-во   │\n",
       "│           ┆ 1         ┆ отчета    ┆           ┆   ┆ 69\",      ┆ реализаци ┆ 23DR      ┆          │\n",
       "│           ┆           ┆ комиссион ┆           ┆   ┆ \"-1,000\"] ┆ и розницы ┆ Ботинки   ┆          │\n",
       "│           ┆           ┆ ера о п…  ┆           ┆   ┆           ┆           ┆ женские … ┆          │\n",
       "│ 85468     ┆ 07.02.202 ┆ Сторно    ┆ 90.02.1   ┆ … ┆ [\"-993,72 ┆ Сторно    ┆ 77-02WA-0 ┆ Кол-во   │\n",
       "│           ┆ 1         ┆ отчета    ┆           ┆   ┆ \",        ┆ реализаци ┆ 15SW      ┆          │\n",
       "│           ┆           ┆ комиссион ┆           ┆   ┆ \"-1,000\"] ┆ и розницы ┆ Ботинки   ┆          │\n",
       "│           ┆           ┆ ера о п…  ┆           ┆   ┆           ┆           ┆ женские … ┆          │\n",
       "│ 85469     ┆ 07.02.202 ┆ Сторно    ┆ 90.02.1   ┆ … ┆ [\"-612,66 ┆ Сторно    ┆ 203-32WN- ┆ Кол-во   │\n",
       "│           ┆ 1         ┆ отчета    ┆           ┆   ┆ \",        ┆ реализаци ┆ 113TW     ┆          │\n",
       "│           ┆           ┆ комиссион ┆           ┆   ┆ \"-1,000\"] ┆ и розницы ┆ Ботинки   ┆          │\n",
       "│           ┆           ┆ ера о п…  ┆           ┆   ┆           ┆           ┆ женские…  ┆          │\n",
       "└───────────┴───────────┴───────────┴───────────┴───┴───────────┴───────────┴───────────┴──────────┘"
      ]
     },
     "execution_count": 14,
     "metadata": {},
     "output_type": "execute_result"
    }
   ],
   "source": [
    "new_df = new_df.explode(['credit_number', 'data', 'operation', 'debet_number']).sort('separator')\n",
    "new_df"
   ]
  },
  {
   "cell_type": "code",
   "execution_count": 15,
   "metadata": {},
   "outputs": [
    {
     "data": {
      "text/html": [
       "<div><style>\n",
       ".dataframe > thead > tr,\n",
       ".dataframe > tbody > tr {\n",
       "  text-align: right;\n",
       "  white-space: pre-wrap;\n",
       "}\n",
       "</style>\n",
       "<small>shape: (85_469, 11)</small><table border=\"1\" class=\"dataframe\"><thead><tr><th>separator</th><th>data</th><th>operation</th><th>debet_number</th><th>debet_rub</th><th>credit_number</th><th>credit_rub</th><th>operation_name</th><th>product_name</th><th>trash</th><th>number</th></tr><tr><td>u32</td><td>str</td><td>str</td><td>str</td><td>str</td><td>str</td><td>str</td><td>str</td><td>str</td><td>str</td><td>str</td></tr></thead><tbody><tr><td>1</td><td>&quot;01.02.2021&quot;</td><td>&quot;Возврат товаров от покупателя …</td><td>&quot;41.01&quot;</td><td>&quot;494,07&quot;</td><td>&quot;41.02&quot;</td><td>&quot;494,07&quot;</td><td>&quot;Возврат из розницы&quot;</td><td>&quot;YU-91-10868-001 Мешок для обув…</td><td>&quot;Кол-во&quot;</td><td>&quot;8,000&quot;</td></tr><tr><td>2</td><td>&quot;01.02.2021&quot;</td><td>&quot;Поступление товаров и услуг ЦБ…</td><td>&quot;41.01&quot;</td><td>&quot;6 162,00&quot;</td><td>&quot;60.01&quot;</td><td>null</td><td>&quot;Оприходованы ТМЦ&quot;</td><td>&quot;98-02BO-068GK Туфли мальчиковы…</td><td>&quot;Дом Одежды Основной договор/ д…</td><td>&quot;8,000&quot;</td></tr><tr><td>3</td><td>&quot;01.02.2021&quot;</td><td>&quot;Поступление товаров и услуг ЦБ…</td><td>&quot;41.01&quot;</td><td>&quot;6 299,60&quot;</td><td>&quot;60.01&quot;</td><td>null</td><td>&quot;Оприходованы ТМЦ&quot;</td><td>&quot;98-02BO-066SK Туфли мальчиковы…</td><td>&quot;Дом Одежды Основной договор/ д…</td><td>&quot;8,000&quot;</td></tr><tr><td>4</td><td>&quot;01.02.2021&quot;</td><td>&quot;Поступление товаров и услуг ЦБ…</td><td>&quot;41.01&quot;</td><td>&quot;6 458,47&quot;</td><td>&quot;60.01&quot;</td><td>null</td><td>&quot;Оприходованы ТМЦ&quot;</td><td>&quot;98-02BO-067SK Полуботинки маль…</td><td>&quot;Дом Одежды Основной договор/ д…</td><td>&quot;8,000&quot;</td></tr><tr><td>5</td><td>&quot;01.02.2021&quot;</td><td>&quot;Поступление товаров и услуг ЦБ…</td><td>&quot;41.01&quot;</td><td>&quot;5 616,29&quot;</td><td>&quot;60.01&quot;</td><td>null</td><td>&quot;Оприходованы ТМЦ&quot;</td><td>&quot;12-02BO-017FT Полуботинки для …</td><td>&quot;Дом Одежды Основной договор/ д…</td><td>&quot;8,000&quot;</td></tr><tr><td>&hellip;</td><td>&hellip;</td><td>&hellip;</td><td>&hellip;</td><td>&hellip;</td><td>&hellip;</td><td>&hellip;</td><td>&hellip;</td><td>&hellip;</td><td>&hellip;</td><td>&hellip;</td></tr><tr><td>85465</td><td>&quot;07.02.2021&quot;</td><td>&quot;Сторно отчета комиссионера о п…</td><td>&quot;90.02.1&quot;</td><td>null</td><td>&quot;41.02&quot;</td><td>&quot;-1 242,01&quot;</td><td>&quot;Сторно реализации розницы&quot;</td><td>&quot;76-02WA-007FW Ботинки женские …</td><td>&quot;Кол-во&quot;</td><td>&quot;-1,000&quot;</td></tr><tr><td>85466</td><td>&quot;07.02.2021&quot;</td><td>&quot;Сторно отчета комиссионера о п…</td><td>&quot;90.02.1&quot;</td><td>null</td><td>&quot;41.02&quot;</td><td>&quot;-1 681,49&quot;</td><td>&quot;Сторно реализации розницы&quot;</td><td>&quot;110-02MV-115KW Ботинки для акт…</td><td>&quot;Кол-во&quot;</td><td>&quot;-1,000&quot;</td></tr><tr><td>85467</td><td>&quot;07.02.2021&quot;</td><td>&quot;Сторно отчета комиссионера о п…</td><td>&quot;90.02.1&quot;</td><td>null</td><td>&quot;41.02&quot;</td><td>&quot;-1 219,69&quot;</td><td>&quot;Сторно реализации розницы&quot;</td><td>&quot;25-02WB-023DR Ботинки женские …</td><td>&quot;Кол-во&quot;</td><td>&quot;-1,000&quot;</td></tr><tr><td>85468</td><td>&quot;07.02.2021&quot;</td><td>&quot;Сторно отчета комиссионера о п…</td><td>&quot;90.02.1&quot;</td><td>null</td><td>&quot;41.02&quot;</td><td>&quot;-993,72&quot;</td><td>&quot;Сторно реализации розницы&quot;</td><td>&quot;77-02WA-015SW Ботинки женские …</td><td>&quot;Кол-во&quot;</td><td>&quot;-1,000&quot;</td></tr><tr><td>85469</td><td>&quot;07.02.2021&quot;</td><td>&quot;Сторно отчета комиссионера о п…</td><td>&quot;90.02.1&quot;</td><td>null</td><td>&quot;41.02&quot;</td><td>&quot;-612,66&quot;</td><td>&quot;Сторно реализации розницы&quot;</td><td>&quot;203-32WN-113TW Ботинки женские…</td><td>&quot;Кол-во&quot;</td><td>&quot;-1,000&quot;</td></tr></tbody></table></div>"
      ],
      "text/plain": [
       "shape: (85_469, 11)\n",
       "┌───────────┬────────────┬────────────┬───────────┬───┬───────────┬───────────┬───────────┬────────┐\n",
       "│ separator ┆ data       ┆ operation  ┆ debet_num ┆ … ┆ operation ┆ product_n ┆ trash     ┆ number │\n",
       "│ ---       ┆ ---        ┆ ---        ┆ ber       ┆   ┆ _name     ┆ ame       ┆ ---       ┆ ---    │\n",
       "│ u32       ┆ str        ┆ str        ┆ ---       ┆   ┆ ---       ┆ ---       ┆ str       ┆ str    │\n",
       "│           ┆            ┆            ┆ str       ┆   ┆ str       ┆ str       ┆           ┆        │\n",
       "╞═══════════╪════════════╪════════════╪═══════════╪═══╪═══════════╪═══════════╪═══════════╪════════╡\n",
       "│ 1         ┆ 01.02.2021 ┆ Возврат    ┆ 41.01     ┆ … ┆ Возврат   ┆ YU-91-108 ┆ Кол-во    ┆ 8,000  │\n",
       "│           ┆            ┆ товаров от ┆           ┆   ┆ из        ┆ 68-001    ┆           ┆        │\n",
       "│           ┆            ┆ покупателя ┆           ┆   ┆ розницы   ┆ Мешок для ┆           ┆        │\n",
       "│           ┆            ┆ …          ┆           ┆   ┆           ┆ обув…     ┆           ┆        │\n",
       "│ 2         ┆ 01.02.2021 ┆ Поступлени ┆ 41.01     ┆ … ┆ Оприходов ┆ 98-02BO-0 ┆ Дом       ┆ 8,000  │\n",
       "│           ┆            ┆ е товаров  ┆           ┆   ┆ аны ТМЦ   ┆ 68GK      ┆ Одежды    ┆        │\n",
       "│           ┆            ┆ и услуг    ┆           ┆   ┆           ┆ Туфли мал ┆ Основной  ┆        │\n",
       "│           ┆            ┆ ЦБ…        ┆           ┆   ┆           ┆ ьчиковы…  ┆ договор/  ┆        │\n",
       "│           ┆            ┆            ┆           ┆   ┆           ┆           ┆ д…        ┆        │\n",
       "│ 3         ┆ 01.02.2021 ┆ Поступлени ┆ 41.01     ┆ … ┆ Оприходов ┆ 98-02BO-0 ┆ Дом       ┆ 8,000  │\n",
       "│           ┆            ┆ е товаров  ┆           ┆   ┆ аны ТМЦ   ┆ 66SK      ┆ Одежды    ┆        │\n",
       "│           ┆            ┆ и услуг    ┆           ┆   ┆           ┆ Туфли мал ┆ Основной  ┆        │\n",
       "│           ┆            ┆ ЦБ…        ┆           ┆   ┆           ┆ ьчиковы…  ┆ договор/  ┆        │\n",
       "│           ┆            ┆            ┆           ┆   ┆           ┆           ┆ д…        ┆        │\n",
       "│ 4         ┆ 01.02.2021 ┆ Поступлени ┆ 41.01     ┆ … ┆ Оприходов ┆ 98-02BO-0 ┆ Дом       ┆ 8,000  │\n",
       "│           ┆            ┆ е товаров  ┆           ┆   ┆ аны ТМЦ   ┆ 67SK Полу ┆ Одежды    ┆        │\n",
       "│           ┆            ┆ и услуг    ┆           ┆   ┆           ┆ ботинки   ┆ Основной  ┆        │\n",
       "│           ┆            ┆ ЦБ…        ┆           ┆   ┆           ┆ маль…     ┆ договор/  ┆        │\n",
       "│           ┆            ┆            ┆           ┆   ┆           ┆           ┆ д…        ┆        │\n",
       "│ 5         ┆ 01.02.2021 ┆ Поступлени ┆ 41.01     ┆ … ┆ Оприходов ┆ 12-02BO-0 ┆ Дом       ┆ 8,000  │\n",
       "│           ┆            ┆ е товаров  ┆           ┆   ┆ аны ТМЦ   ┆ 17FT Полу ┆ Одежды    ┆        │\n",
       "│           ┆            ┆ и услуг    ┆           ┆   ┆           ┆ ботинки   ┆ Основной  ┆        │\n",
       "│           ┆            ┆ ЦБ…        ┆           ┆   ┆           ┆ для …     ┆ договор/  ┆        │\n",
       "│           ┆            ┆            ┆           ┆   ┆           ┆           ┆ д…        ┆        │\n",
       "│ …         ┆ …          ┆ …          ┆ …         ┆ … ┆ …         ┆ …         ┆ …         ┆ …      │\n",
       "│ 85465     ┆ 07.02.2021 ┆ Сторно     ┆ 90.02.1   ┆ … ┆ Сторно    ┆ 76-02WA-0 ┆ Кол-во    ┆ -1,000 │\n",
       "│           ┆            ┆ отчета ком ┆           ┆   ┆ реализаци ┆ 07FW      ┆           ┆        │\n",
       "│           ┆            ┆ иссионера  ┆           ┆   ┆ и розницы ┆ Ботинки   ┆           ┆        │\n",
       "│           ┆            ┆ о п…       ┆           ┆   ┆           ┆ женские … ┆           ┆        │\n",
       "│ 85466     ┆ 07.02.2021 ┆ Сторно     ┆ 90.02.1   ┆ … ┆ Сторно    ┆ 110-02MV- ┆ Кол-во    ┆ -1,000 │\n",
       "│           ┆            ┆ отчета ком ┆           ┆   ┆ реализаци ┆ 115KW     ┆           ┆        │\n",
       "│           ┆            ┆ иссионера  ┆           ┆   ┆ и розницы ┆ Ботинки   ┆           ┆        │\n",
       "│           ┆            ┆ о п…       ┆           ┆   ┆           ┆ для акт…  ┆           ┆        │\n",
       "│ 85467     ┆ 07.02.2021 ┆ Сторно     ┆ 90.02.1   ┆ … ┆ Сторно    ┆ 25-02WB-0 ┆ Кол-во    ┆ -1,000 │\n",
       "│           ┆            ┆ отчета ком ┆           ┆   ┆ реализаци ┆ 23DR      ┆           ┆        │\n",
       "│           ┆            ┆ иссионера  ┆           ┆   ┆ и розницы ┆ Ботинки   ┆           ┆        │\n",
       "│           ┆            ┆ о п…       ┆           ┆   ┆           ┆ женские … ┆           ┆        │\n",
       "│ 85468     ┆ 07.02.2021 ┆ Сторно     ┆ 90.02.1   ┆ … ┆ Сторно    ┆ 77-02WA-0 ┆ Кол-во    ┆ -1,000 │\n",
       "│           ┆            ┆ отчета ком ┆           ┆   ┆ реализаци ┆ 15SW      ┆           ┆        │\n",
       "│           ┆            ┆ иссионера  ┆           ┆   ┆ и розницы ┆ Ботинки   ┆           ┆        │\n",
       "│           ┆            ┆ о п…       ┆           ┆   ┆           ┆ женские … ┆           ┆        │\n",
       "│ 85469     ┆ 07.02.2021 ┆ Сторно     ┆ 90.02.1   ┆ … ┆ Сторно    ┆ 203-32WN- ┆ Кол-во    ┆ -1,000 │\n",
       "│           ┆            ┆ отчета ком ┆           ┆   ┆ реализаци ┆ 113TW     ┆           ┆        │\n",
       "│           ┆            ┆ иссионера  ┆           ┆   ┆ и розницы ┆ Ботинки   ┆           ┆        │\n",
       "│           ┆            ┆ о п…       ┆           ┆   ┆           ┆ женские…  ┆           ┆        │\n",
       "└───────────┴────────────┴────────────┴───────────┴───┴───────────┴───────────┴───────────┴────────┘"
      ]
     },
     "execution_count": 15,
     "metadata": {},
     "output_type": "execute_result"
    }
   ],
   "source": [
    "pre_final_df = new_df.with_columns(\n",
    "    pl.max_horizontal(pl.col('credit_rub').list.get(1, null_on_oob=True),pl.col('debet_rub').list.get(1, null_on_oob=True) ).alias('number'),\n",
    "    pl.col('credit_rub').list.get(0, null_on_oob=True).alias('credit_rub'),\n",
    "    pl.col('debet_rub').list.get(0, null_on_oob=True).alias('debet_rub'),\n",
    ")\n",
    "pre_final_df"
   ]
  },
  {
   "cell_type": "code",
   "execution_count": null,
   "metadata": {},
   "outputs": [
    {
     "name": "stdout",
     "output_type": "stream",
     "text": [
      "106004786.25000001 107519922.46000001\n"
     ]
    }
   ],
   "source": [
    "final = pre_final_df.with_columns(\n",
    "    pl.col('debet_rub').str.replace_all(r\"\\s+\", \"\").str.replace(',', '.').cast(pl.Float64),\n",
    "    pl.col('credit_rub').str.replace_all(r\"\\s+\", \"\").str.replace(',', '.').cast(pl.Float64),\n",
    ")\n",
    "print(\"суммы: \", final['debet_rub'].sum(), final['credit_rub'].sum())"
   ]
  },
  {
   "cell_type": "code",
   "execution_count": null,
   "metadata": {},
   "outputs": [
    {
     "data": {
      "text/plain": [
       "<xlsxwriter.workbook.Workbook at 0x2d4e608b050>"
      ]
     },
     "execution_count": 144,
     "metadata": {},
     "output_type": "execute_result"
    }
   ],
   "source": [
    "pre_final_df.write_excel(name + \".xlsx\")"
   ]
  }
 ],
 "metadata": {
  "kernelspec": {
   "display_name": ".venv",
   "language": "python",
   "name": "python3"
  },
  "language_info": {
   "codemirror_mode": {
    "name": "ipython",
    "version": 3
   },
   "file_extension": ".py",
   "mimetype": "text/x-python",
   "name": "python",
   "nbconvert_exporter": "python",
   "pygments_lexer": "ipython3",
   "version": "3.12.9"
  }
 },
 "nbformat": 4,
 "nbformat_minor": 2
}
